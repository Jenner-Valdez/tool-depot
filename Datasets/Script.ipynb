{
 "cells": [
  {
   "cell_type": "markdown",
   "metadata": {},
   "source": [
    "### Tool Depot"
   ]
  },
  {
   "cell_type": "code",
   "execution_count": 1,
   "metadata": {},
   "outputs": [],
   "source": [
    "#import neccesary libraries\n",
    "import pandas as pd\n",
    "import numpy as np\n",
    "import math"
   ]
  },
  {
   "cell_type": "code",
   "execution_count": 2,
   "metadata": {},
   "outputs": [],
   "source": [
    "#We will read the libraries and make the accessible\n",
    "carrier_rates = pd.read_csv('C:/Users/valde/Desktop/Tool Depot/Datasets/Carrier_rates.csv')\n",
    "historical_orders = pd.read_csv('C:/Users/valde/Desktop/Tool Depot/Datasets/Historical_orders.csv')\n",
    "historical_shipments = pd.read_csv('C:/Users/valde/Desktop/Tool Depot/Datasets/Historical_shipments.csv')\n",
    "product_info = pd.read_csv('C:/Users/valde/Desktop/Tool Depot/Datasets/Product_info.csv')\n"
   ]
  },
  {
   "cell_type": "code",
   "execution_count": 3,
   "metadata": {},
   "outputs": [
    {
     "data": {
      "text/html": [
       "<div>\n",
       "<style scoped>\n",
       "    .dataframe tbody tr th:only-of-type {\n",
       "        vertical-align: middle;\n",
       "    }\n",
       "\n",
       "    .dataframe tbody tr th {\n",
       "        vertical-align: top;\n",
       "    }\n",
       "\n",
       "    .dataframe thead th {\n",
       "        text-align: right;\n",
       "    }\n",
       "</style>\n",
       "<table border=\"1\" class=\"dataframe\">\n",
       "  <thead>\n",
       "    <tr style=\"text-align: right;\">\n",
       "      <th></th>\n",
       "      <th>Carrier</th>\n",
       "      <th>Supplier</th>\n",
       "      <th>Str Nbr</th>\n",
       "      <th>Cost</th>\n",
       "      <th>Unnamed: 4</th>\n",
       "    </tr>\n",
       "  </thead>\n",
       "  <tbody>\n",
       "    <tr>\n",
       "      <th>0</th>\n",
       "      <td>X</td>\n",
       "      <td>A</td>\n",
       "      <td>1</td>\n",
       "      <td>$2,540</td>\n",
       "      <td>NaN</td>\n",
       "    </tr>\n",
       "    <tr>\n",
       "      <th>1</th>\n",
       "      <td>X</td>\n",
       "      <td>A</td>\n",
       "      <td>2</td>\n",
       "      <td>$1,640</td>\n",
       "      <td>NaN</td>\n",
       "    </tr>\n",
       "    <tr>\n",
       "      <th>2</th>\n",
       "      <td>X</td>\n",
       "      <td>B</td>\n",
       "      <td>1</td>\n",
       "      <td>$1,200</td>\n",
       "      <td>NaN</td>\n",
       "    </tr>\n",
       "    <tr>\n",
       "      <th>3</th>\n",
       "      <td>X</td>\n",
       "      <td>B</td>\n",
       "      <td>2</td>\n",
       "      <td>$1,200</td>\n",
       "      <td>NaN</td>\n",
       "    </tr>\n",
       "    <tr>\n",
       "      <th>4</th>\n",
       "      <td>Y</td>\n",
       "      <td>A</td>\n",
       "      <td>1</td>\n",
       "      <td>$0.12</td>\n",
       "      <td>NaN</td>\n",
       "    </tr>\n",
       "  </tbody>\n",
       "</table>\n",
       "</div>"
      ],
      "text/plain": [
       "  Carrier Supplier  Str Nbr      Cost  Unnamed: 4\n",
       "0       X        A        1   $2,540          NaN\n",
       "1       X        A        2   $1,640          NaN\n",
       "2       X        B        1   $1,200          NaN\n",
       "3       X        B        2   $1,200          NaN\n",
       "4       Y        A        1    $0.12          NaN"
      ]
     },
     "metadata": {},
     "output_type": "display_data"
    },
    {
     "data": {
      "text/html": [
       "<div>\n",
       "<style scoped>\n",
       "    .dataframe tbody tr th:only-of-type {\n",
       "        vertical-align: middle;\n",
       "    }\n",
       "\n",
       "    .dataframe tbody tr th {\n",
       "        vertical-align: top;\n",
       "    }\n",
       "\n",
       "    .dataframe thead th {\n",
       "        text-align: right;\n",
       "    }\n",
       "</style>\n",
       "<table border=\"1\" class=\"dataframe\">\n",
       "  <thead>\n",
       "    <tr style=\"text-align: right;\">\n",
       "      <th></th>\n",
       "      <th>Order Dt</th>\n",
       "      <th>Str Nbr</th>\n",
       "      <th>Supplier</th>\n",
       "      <th>Product Id</th>\n",
       "      <th>Order Qty</th>\n",
       "      <th>Product Weight</th>\n",
       "      <th>Order Weight</th>\n",
       "    </tr>\n",
       "  </thead>\n",
       "  <tbody>\n",
       "    <tr>\n",
       "      <th>0</th>\n",
       "      <td>8/4/2014</td>\n",
       "      <td>1</td>\n",
       "      <td>A</td>\n",
       "      <td>1</td>\n",
       "      <td>4,338</td>\n",
       "      <td>2.2</td>\n",
       "      <td>9,544</td>\n",
       "    </tr>\n",
       "    <tr>\n",
       "      <th>1</th>\n",
       "      <td>8/4/2014</td>\n",
       "      <td>1</td>\n",
       "      <td>A</td>\n",
       "      <td>2</td>\n",
       "      <td>5,006</td>\n",
       "      <td>1.2</td>\n",
       "      <td>6,007</td>\n",
       "    </tr>\n",
       "    <tr>\n",
       "      <th>2</th>\n",
       "      <td>8/4/2014</td>\n",
       "      <td>2</td>\n",
       "      <td>A</td>\n",
       "      <td>1</td>\n",
       "      <td>3,600</td>\n",
       "      <td>2.2</td>\n",
       "      <td>7,920</td>\n",
       "    </tr>\n",
       "    <tr>\n",
       "      <th>3</th>\n",
       "      <td>8/4/2014</td>\n",
       "      <td>2</td>\n",
       "      <td>A</td>\n",
       "      <td>2</td>\n",
       "      <td>5,173</td>\n",
       "      <td>1.2</td>\n",
       "      <td>6,208</td>\n",
       "    </tr>\n",
       "    <tr>\n",
       "      <th>4</th>\n",
       "      <td>8/4/2014</td>\n",
       "      <td>1</td>\n",
       "      <td>B</td>\n",
       "      <td>3</td>\n",
       "      <td>1,890</td>\n",
       "      <td>8.3</td>\n",
       "      <td>15,687</td>\n",
       "    </tr>\n",
       "  </tbody>\n",
       "</table>\n",
       "</div>"
      ],
      "text/plain": [
       "   Order Dt  Str Nbr Supplier  Product Id  Order Qty    Product Weight   \\\n",
       "0  8/4/2014        1        A           1      4,338                2.2   \n",
       "1  8/4/2014        1        A           2      5,006                1.2   \n",
       "2  8/4/2014        2        A           1      3,600                2.2   \n",
       "3  8/4/2014        2        A           2      5,173                1.2   \n",
       "4  8/4/2014        1        B           3      1,890                8.3   \n",
       "\n",
       "   Order Weight   \n",
       "0         9,544   \n",
       "1         6,007   \n",
       "2         7,920   \n",
       "3         6,208   \n",
       "4        15,687   "
      ]
     },
     "metadata": {},
     "output_type": "display_data"
    },
    {
     "data": {
      "text/html": [
       "<div>\n",
       "<style scoped>\n",
       "    .dataframe tbody tr th:only-of-type {\n",
       "        vertical-align: middle;\n",
       "    }\n",
       "\n",
       "    .dataframe tbody tr th {\n",
       "        vertical-align: top;\n",
       "    }\n",
       "\n",
       "    .dataframe thead th {\n",
       "        text-align: right;\n",
       "    }\n",
       "</style>\n",
       "<table border=\"1\" class=\"dataframe\">\n",
       "  <thead>\n",
       "    <tr style=\"text-align: right;\">\n",
       "      <th></th>\n",
       "      <th>Shipment Date</th>\n",
       "      <th>Str Nbr</th>\n",
       "      <th>Supplier</th>\n",
       "      <th>Weight</th>\n",
       "      <th>Unnamed: 4</th>\n",
       "    </tr>\n",
       "  </thead>\n",
       "  <tbody>\n",
       "    <tr>\n",
       "      <th>0</th>\n",
       "      <td>8/4/2014</td>\n",
       "      <td>1</td>\n",
       "      <td>A</td>\n",
       "      <td>15,551</td>\n",
       "      <td>NaN</td>\n",
       "    </tr>\n",
       "    <tr>\n",
       "      <th>1</th>\n",
       "      <td>8/4/2014</td>\n",
       "      <td>1</td>\n",
       "      <td>B</td>\n",
       "      <td>15,687</td>\n",
       "      <td>NaN</td>\n",
       "    </tr>\n",
       "    <tr>\n",
       "      <th>2</th>\n",
       "      <td>8/4/2014</td>\n",
       "      <td>2</td>\n",
       "      <td>A</td>\n",
       "      <td>14,128</td>\n",
       "      <td>NaN</td>\n",
       "    </tr>\n",
       "    <tr>\n",
       "      <th>3</th>\n",
       "      <td>8/4/2014</td>\n",
       "      <td>2</td>\n",
       "      <td>B</td>\n",
       "      <td>21,049</td>\n",
       "      <td>NaN</td>\n",
       "    </tr>\n",
       "    <tr>\n",
       "      <th>4</th>\n",
       "      <td>8/11/2014</td>\n",
       "      <td>1</td>\n",
       "      <td>A</td>\n",
       "      <td>16,671</td>\n",
       "      <td>NaN</td>\n",
       "    </tr>\n",
       "  </tbody>\n",
       "</table>\n",
       "</div>"
      ],
      "text/plain": [
       "  Shipment Date  Str Nbr Supplier   Weight   Unnamed: 4\n",
       "0      8/4/2014        1        A   15,551          NaN\n",
       "1      8/4/2014        1        B   15,687          NaN\n",
       "2      8/4/2014        2        A   14,128          NaN\n",
       "3      8/4/2014        2        B   21,049          NaN\n",
       "4     8/11/2014        1        A   16,671          NaN"
      ]
     },
     "metadata": {},
     "output_type": "display_data"
    },
    {
     "data": {
      "text/html": [
       "<div>\n",
       "<style scoped>\n",
       "    .dataframe tbody tr th:only-of-type {\n",
       "        vertical-align: middle;\n",
       "    }\n",
       "\n",
       "    .dataframe tbody tr th {\n",
       "        vertical-align: top;\n",
       "    }\n",
       "\n",
       "    .dataframe thead th {\n",
       "        text-align: right;\n",
       "    }\n",
       "</style>\n",
       "<table border=\"1\" class=\"dataframe\">\n",
       "  <thead>\n",
       "    <tr style=\"text-align: right;\">\n",
       "      <th></th>\n",
       "      <th>Product Id</th>\n",
       "      <th>Product Desc</th>\n",
       "      <th>Package Qty</th>\n",
       "      <th>Weight</th>\n",
       "      <th>Weight Unit of Measure</th>\n",
       "    </tr>\n",
       "  </thead>\n",
       "  <tbody>\n",
       "    <tr>\n",
       "      <th>0</th>\n",
       "      <td>1</td>\n",
       "      <td>Wrench</td>\n",
       "      <td>1</td>\n",
       "      <td>2.2</td>\n",
       "      <td>LB</td>\n",
       "    </tr>\n",
       "    <tr>\n",
       "      <th>1</th>\n",
       "      <td>2</td>\n",
       "      <td>Saw</td>\n",
       "      <td>1</td>\n",
       "      <td>1.2</td>\n",
       "      <td>LB</td>\n",
       "    </tr>\n",
       "    <tr>\n",
       "      <th>2</th>\n",
       "      <td>3</td>\n",
       "      <td>Drill</td>\n",
       "      <td>1</td>\n",
       "      <td>8.3</td>\n",
       "      <td>LB</td>\n",
       "    </tr>\n",
       "    <tr>\n",
       "      <th>3</th>\n",
       "      <td>4</td>\n",
       "      <td>Hammer</td>\n",
       "      <td>1</td>\n",
       "      <td>2.0</td>\n",
       "      <td>LB</td>\n",
       "    </tr>\n",
       "  </tbody>\n",
       "</table>\n",
       "</div>"
      ],
      "text/plain": [
       "   Product Id Product Desc  Package Qty   Weight  Weight Unit of Measure\n",
       "0           1       Wrench            1       2.2                     LB\n",
       "1           2          Saw            1       1.2                     LB\n",
       "2           3        Drill            1       8.3                     LB\n",
       "3           4       Hammer            1       2.0                     LB"
      ]
     },
     "metadata": {},
     "output_type": "display_data"
    }
   ],
   "source": [
    "#check of libraries were read properly\n",
    "carrier_rates_summary = carrier_rates.head()\n",
    "historical_orders_summary = historical_orders.head()\n",
    "historical_shipments_summary = historical_shipments.head()\n",
    "product_info_summary = product_info.head()\n",
    "display(carrier_rates_summary.head())\n",
    "display(historical_orders_summary.head())\n",
    "display(historical_shipments_summary.head())\n",
    "display(product_info_summary.head())"
   ]
  },
  {
   "cell_type": "markdown",
   "metadata": {},
   "source": [
    "Everything seems good, we move on to check if data is clean"
   ]
  },
  {
   "cell_type": "markdown",
   "metadata": {},
   "source": [
    "The following code will check if data is clean for most datasets"
   ]
  },
  {
   "cell_type": "code",
   "execution_count": 4,
   "metadata": {},
   "outputs": [
    {
     "name": "stdout",
     "output_type": "stream",
     "text": [
      "<class 'pandas.core.frame.DataFrame'>\n",
      "RangeIndex: 8 entries, 0 to 7\n",
      "Data columns (total 5 columns):\n",
      " #   Column      Non-Null Count  Dtype  \n",
      "---  ------      --------------  -----  \n",
      " 0   Carrier     8 non-null      object \n",
      " 1   Supplier    8 non-null      object \n",
      " 2   Str Nbr     8 non-null      int64  \n",
      " 3   Cost        8 non-null      object \n",
      " 4   Unnamed: 4  0 non-null      float64\n",
      "dtypes: float64(1), int64(1), object(3)\n",
      "memory usage: 452.0+ bytes\n"
     ]
    }
   ],
   "source": [
    "#Check for data type before this to make sure the data type is correct\n",
    "carrier_rates.info()"
   ]
  },
  {
   "cell_type": "code",
   "execution_count": 5,
   "metadata": {},
   "outputs": [],
   "source": [
    "#Remove empty column from carriers_rates as its empty\n",
    "carrier_rates = carrier_rates.drop(columns=['Unnamed: 4'])"
   ]
  },
  {
   "cell_type": "code",
   "execution_count": 6,
   "metadata": {},
   "outputs": [
    {
     "name": "stdout",
     "output_type": "stream",
     "text": [
      "<class 'pandas.core.frame.DataFrame'>\n",
      "RangeIndex: 8 entries, 0 to 7\n",
      "Data columns (total 4 columns):\n",
      " #   Column    Non-Null Count  Dtype \n",
      "---  ------    --------------  ----- \n",
      " 0   Carrier   8 non-null      object\n",
      " 1   Supplier  8 non-null      object\n",
      " 2   Str Nbr   8 non-null      int64 \n",
      " 3   Cost      8 non-null      object\n",
      "dtypes: int64(1), object(3)\n",
      "memory usage: 388.0+ bytes\n"
     ]
    }
   ],
   "source": [
    "#Check again if column is not there anymore\n",
    "carrier_rates.info()"
   ]
  },
  {
   "cell_type": "markdown",
   "metadata": {},
   "source": [
    "Empty column was removed from dataset"
   ]
  },
  {
   "cell_type": "code",
   "execution_count": 7,
   "metadata": {},
   "outputs": [
    {
     "name": "stdout",
     "output_type": "stream",
     "text": [
      "<class 'pandas.core.frame.DataFrame'>\n",
      "RangeIndex: 312 entries, 0 to 311\n",
      "Data columns (total 7 columns):\n",
      " #   Column            Non-Null Count  Dtype  \n",
      "---  ------            --------------  -----  \n",
      " 0   Order Dt          312 non-null    object \n",
      " 1   Str Nbr           312 non-null    int64  \n",
      " 2   Supplier          312 non-null    object \n",
      " 3   Product Id        312 non-null    int64  \n",
      " 4    Order Qty        312 non-null    object \n",
      " 5    Product Weight   312 non-null    float64\n",
      " 6    Order Weight     312 non-null    object \n",
      "dtypes: float64(1), int64(2), object(4)\n",
      "memory usage: 17.2+ KB\n"
     ]
    }
   ],
   "source": [
    "#Check for data type before this to make sure the data type is correct\n",
    "historical_orders.info()"
   ]
  },
  {
   "cell_type": "code",
   "execution_count": 8,
   "metadata": {},
   "outputs": [
    {
     "name": "stdout",
     "output_type": "stream",
     "text": [
      "<class 'pandas.core.frame.DataFrame'>\n",
      "RangeIndex: 208 entries, 0 to 207\n",
      "Data columns (total 5 columns):\n",
      " #   Column         Non-Null Count  Dtype  \n",
      "---  ------         --------------  -----  \n",
      " 0   Shipment Date  208 non-null    object \n",
      " 1   Str Nbr        208 non-null    int64  \n",
      " 2   Supplier       208 non-null    object \n",
      " 3    Weight        208 non-null    object \n",
      " 4   Unnamed: 4     0 non-null      float64\n",
      "dtypes: float64(1), int64(1), object(3)\n",
      "memory usage: 8.3+ KB\n"
     ]
    }
   ],
   "source": [
    "#Check for data type before this to make sure the data type is correct\n",
    "historical_shipments.info()"
   ]
  },
  {
   "cell_type": "code",
   "execution_count": 9,
   "metadata": {},
   "outputs": [],
   "source": [
    "#Remove the empty column from datasets historical_shipment\n",
    "historical_shipments = historical_shipments.drop(columns=['Unnamed: 4'])"
   ]
  },
  {
   "cell_type": "code",
   "execution_count": 10,
   "metadata": {},
   "outputs": [
    {
     "name": "stdout",
     "output_type": "stream",
     "text": [
      "<class 'pandas.core.frame.DataFrame'>\n",
      "RangeIndex: 208 entries, 0 to 207\n",
      "Data columns (total 4 columns):\n",
      " #   Column         Non-Null Count  Dtype \n",
      "---  ------         --------------  ----- \n",
      " 0   Shipment Date  208 non-null    object\n",
      " 1   Str Nbr        208 non-null    int64 \n",
      " 2   Supplier       208 non-null    object\n",
      " 3    Weight        208 non-null    object\n",
      "dtypes: int64(1), object(3)\n",
      "memory usage: 6.6+ KB\n"
     ]
    }
   ],
   "source": [
    "#Double check if column has been removed\n",
    "historical_shipments.info()"
   ]
  },
  {
   "cell_type": "markdown",
   "metadata": {},
   "source": [
    "Empty column has been removed"
   ]
  },
  {
   "cell_type": "code",
   "execution_count": 11,
   "metadata": {},
   "outputs": [
    {
     "name": "stdout",
     "output_type": "stream",
     "text": [
      "<class 'pandas.core.frame.DataFrame'>\n",
      "RangeIndex: 4 entries, 0 to 3\n",
      "Data columns (total 5 columns):\n",
      " #   Column                  Non-Null Count  Dtype  \n",
      "---  ------                  --------------  -----  \n",
      " 0   Product Id              4 non-null      int64  \n",
      " 1   Product Desc            4 non-null      object \n",
      " 2   Package Qty             4 non-null      int64  \n",
      " 3    Weight                 4 non-null      float64\n",
      " 4   Weight Unit of Measure  4 non-null      object \n",
      "dtypes: float64(1), int64(2), object(2)\n",
      "memory usage: 292.0+ bytes\n"
     ]
    }
   ],
   "source": [
    "#Check for data type before this to make sure the data type is correct\n",
    "product_info.info()"
   ]
  },
  {
   "cell_type": "markdown",
   "metadata": {},
   "source": [
    "Since we expect the same number of hammers to be sold compare to the wrench we will take this as a reference for the future sales."
   ]
  },
  {
   "cell_type": "markdown",
   "metadata": {},
   "source": [
    "### Step 1 and 2"
   ]
  },
  {
   "cell_type": "code",
   "execution_count": 12,
   "metadata": {},
   "outputs": [],
   "source": [
    "#Create a new dataset with the expect sales for the wrench/hammer as they are expect to sell equally\n",
    "#Convert the Order date to datetime\n",
    "historical_orders['Order Dt'] = pd.to_datetime(historical_orders['Order Dt'])"
   ]
  },
  {
   "cell_type": "code",
   "execution_count": 13,
   "metadata": {},
   "outputs": [],
   "source": [
    "#Filter data the data from \"Wrench\" product which is 1\n",
    "wrench_orders = historical_orders[historical_orders['Product Id'] == 1]"
   ]
  },
  {
   "cell_type": "code",
   "execution_count": 14,
   "metadata": {},
   "outputs": [],
   "source": [
    "#Remove extra space from the columns now allow to find the correct name\n",
    "wrench_orders.columns = wrench_orders.columns.str.strip()"
   ]
  },
  {
   "cell_type": "code",
   "execution_count": 15,
   "metadata": {},
   "outputs": [
    {
     "name": "stderr",
     "output_type": "stream",
     "text": [
      "C:\\Users\\valde\\AppData\\Local\\Temp\\ipykernel_18488\\940646906.py:2: SettingWithCopyWarning: \n",
      "A value is trying to be set on a copy of a slice from a DataFrame.\n",
      "Try using .loc[row_indexer,col_indexer] = value instead\n",
      "\n",
      "See the caveats in the documentation: https://pandas.pydata.org/pandas-docs/stable/user_guide/indexing.html#returning-a-view-versus-a-copy\n",
      "  wrench_orders['Order Qty'] = wrench_orders['Order Qty'].replace(',', '', regex=True).astype(int)\n"
     ]
    }
   ],
   "source": [
    "#Remove any commas from the Order Qty and convert it to integers\n",
    "wrench_orders['Order Qty'] = wrench_orders['Order Qty'].replace(',', '', regex=True).astype(int)"
   ]
  },
  {
   "cell_type": "code",
   "execution_count": 16,
   "metadata": {},
   "outputs": [],
   "source": [
    "#Group these by the month for better visualization later on\n",
    "wrench_orders_per_month = wrench_orders.groupby(wrench_orders['Order Dt'].dt.to_period('M'))['Order Qty'].sum()"
   ]
  },
  {
   "cell_type": "code",
   "execution_count": 17,
   "metadata": {},
   "outputs": [
    {
     "data": {
      "text/plain": [
       "Order Dt\n",
       "2014-08    28016\n",
       "2014-09    31047\n",
       "2014-10    25415\n",
       "2014-11    28400\n",
       "2014-12    42091\n",
       "2015-01    30045\n",
       "2015-02    29966\n",
       "2015-03    41180\n",
       "2015-04    33189\n",
       "2015-05    36505\n",
       "2015-06    45874\n",
       "2015-07    38937\n",
       "Freq: M, Name: Order Qty, dtype: int32"
      ]
     },
     "metadata": {},
     "output_type": "display_data"
    }
   ],
   "source": [
    "#Display the dataset\n",
    "display(wrench_orders_per_month)"
   ]
  },
  {
   "cell_type": "code",
   "execution_count": 18,
   "metadata": {},
   "outputs": [
    {
     "name": "stdout",
     "output_type": "stream",
     "text": [
      "410665\n"
     ]
    }
   ],
   "source": [
    "#Add each months sale for the wrench to know the total number of wrenches sold per the year\n",
    "total_wrench_per_year = wrench_orders_per_month.sum()\n",
    "print(total_wrench_per_year)"
   ]
  },
  {
   "cell_type": "markdown",
   "metadata": {},
   "source": [
    "Total wrenches sold per year 410665"
   ]
  },
  {
   "cell_type": "code",
   "execution_count": 19,
   "metadata": {},
   "outputs": [
    {
     "name": "stdout",
     "output_type": "stream",
     "text": [
      "821330\n"
     ]
    }
   ],
   "source": [
    "#To measure the total weight for all shipments we will multiple the number of hammers/wrenches by the weight\n",
    "weight_per_hammer = 2\n",
    "total_weight_hammer = total_wrench_per_year * weight_per_hammer\n",
    "print(total_weight_hammer)"
   ]
  },
  {
   "cell_type": "markdown",
   "metadata": {},
   "source": [
    "Total weight for the hammer shipments is 821330"
   ]
  },
  {
   "cell_type": "code",
   "execution_count": 20,
   "metadata": {},
   "outputs": [
    {
     "name": "stdout",
     "output_type": "stream",
     "text": [
      "451731.50000000006\n"
     ]
    }
   ],
   "source": [
    "#Since we expect a increase in sales for hammers/wrenches next year, we will increase the total amount of sold items\n",
    "total_wrench_per_year_with_increase = total_wrench_per_year * 1.10\n",
    "print(total_wrench_per_year_with_increase)"
   ]
  },
  {
   "cell_type": "markdown",
   "metadata": {},
   "source": [
    "Total wrenches expected to sale next year 451731.50"
   ]
  },
  {
   "cell_type": "code",
   "execution_count": 21,
   "metadata": {},
   "outputs": [
    {
     "name": "stdout",
     "output_type": "stream",
     "text": [
      "903463.0000000001\n"
     ]
    }
   ],
   "source": [
    "#To measure the total weight for all the shipments if sales were to increase by 10%\n",
    "total_weight_hammer_with_increase = total_wrench_per_year_with_increase * weight_per_hammer\n",
    "print(total_weight_hammer_with_increase)"
   ]
  },
  {
   "cell_type": "markdown",
   "metadata": {},
   "source": [
    "Total weight after the expected 10% increase in sales 903463.0"
   ]
  },
  {
   "cell_type": "code",
   "execution_count": 22,
   "metadata": {},
   "outputs": [],
   "source": [
    "#Export for future visualization\n",
    "#wrench_orders_per_month.to_csv('wrench_orders_per_month.csv', index=False)"
   ]
  },
  {
   "cell_type": "markdown",
   "metadata": {},
   "source": [
    "Since we expect a 10% increase year over year we will make a new dataset which will show what the sales will look like."
   ]
  },
  {
   "cell_type": "code",
   "execution_count": 23,
   "metadata": {},
   "outputs": [],
   "source": [
    "#Strip extra space from column names\n",
    "historical_orders.columns = historical_orders.columns.str.strip()"
   ]
  },
  {
   "cell_type": "code",
   "execution_count": 24,
   "metadata": {},
   "outputs": [],
   "source": [
    "#Ensure 'Order Qty' is numeric after cleaning up any commas\n",
    "historical_orders['Order Qty'] = historical_orders['Order Qty'].replace(',', '', regex=True).astype(int)"
   ]
  },
  {
   "cell_type": "code",
   "execution_count": 25,
   "metadata": {},
   "outputs": [],
   "source": [
    "#Create a brand new dataset including the 10% increase in sale for all products\n",
    "historical_orders_with_increase = historical_orders.copy()\n",
    "historical_orders_with_increase['Order Qty'] = historical_orders_with_increase['Order Qty'] * 1.10"
   ]
  },
  {
   "cell_type": "code",
   "execution_count": 26,
   "metadata": {},
   "outputs": [
    {
     "data": {
      "text/html": [
       "<div>\n",
       "<style scoped>\n",
       "    .dataframe tbody tr th:only-of-type {\n",
       "        vertical-align: middle;\n",
       "    }\n",
       "\n",
       "    .dataframe tbody tr th {\n",
       "        vertical-align: top;\n",
       "    }\n",
       "\n",
       "    .dataframe thead th {\n",
       "        text-align: right;\n",
       "    }\n",
       "</style>\n",
       "<table border=\"1\" class=\"dataframe\">\n",
       "  <thead>\n",
       "    <tr style=\"text-align: right;\">\n",
       "      <th></th>\n",
       "      <th>Order Dt</th>\n",
       "      <th>Str Nbr</th>\n",
       "      <th>Supplier</th>\n",
       "      <th>Product Id</th>\n",
       "      <th>Order Qty</th>\n",
       "      <th>Product Weight</th>\n",
       "      <th>Order Weight</th>\n",
       "    </tr>\n",
       "  </thead>\n",
       "  <tbody>\n",
       "    <tr>\n",
       "      <th>0</th>\n",
       "      <td>2014-08-04</td>\n",
       "      <td>1</td>\n",
       "      <td>A</td>\n",
       "      <td>1</td>\n",
       "      <td>4771.8</td>\n",
       "      <td>2.2</td>\n",
       "      <td>9,544</td>\n",
       "    </tr>\n",
       "    <tr>\n",
       "      <th>1</th>\n",
       "      <td>2014-08-04</td>\n",
       "      <td>1</td>\n",
       "      <td>A</td>\n",
       "      <td>2</td>\n",
       "      <td>5506.6</td>\n",
       "      <td>1.2</td>\n",
       "      <td>6,007</td>\n",
       "    </tr>\n",
       "    <tr>\n",
       "      <th>2</th>\n",
       "      <td>2014-08-04</td>\n",
       "      <td>2</td>\n",
       "      <td>A</td>\n",
       "      <td>1</td>\n",
       "      <td>3960.0</td>\n",
       "      <td>2.2</td>\n",
       "      <td>7,920</td>\n",
       "    </tr>\n",
       "    <tr>\n",
       "      <th>3</th>\n",
       "      <td>2014-08-04</td>\n",
       "      <td>2</td>\n",
       "      <td>A</td>\n",
       "      <td>2</td>\n",
       "      <td>5690.3</td>\n",
       "      <td>1.2</td>\n",
       "      <td>6,208</td>\n",
       "    </tr>\n",
       "    <tr>\n",
       "      <th>4</th>\n",
       "      <td>2014-08-04</td>\n",
       "      <td>1</td>\n",
       "      <td>B</td>\n",
       "      <td>3</td>\n",
       "      <td>2079.0</td>\n",
       "      <td>8.3</td>\n",
       "      <td>15,687</td>\n",
       "    </tr>\n",
       "  </tbody>\n",
       "</table>\n",
       "</div>"
      ],
      "text/plain": [
       "    Order Dt  Str Nbr Supplier  Product Id  Order Qty  Product Weight  \\\n",
       "0 2014-08-04        1        A           1     4771.8             2.2   \n",
       "1 2014-08-04        1        A           2     5506.6             1.2   \n",
       "2 2014-08-04        2        A           1     3960.0             2.2   \n",
       "3 2014-08-04        2        A           2     5690.3             1.2   \n",
       "4 2014-08-04        1        B           3     2079.0             8.3   \n",
       "\n",
       "  Order Weight  \n",
       "0       9,544   \n",
       "1       6,007   \n",
       "2       7,920   \n",
       "3       6,208   \n",
       "4      15,687   "
      ]
     },
     "execution_count": 26,
     "metadata": {},
     "output_type": "execute_result"
    }
   ],
   "source": [
    "#Display the first rows of the new dataset with the 10% increased in sales\n",
    "historical_orders_with_increase.head(5)"
   ]
  },
  {
   "cell_type": "code",
   "execution_count": 27,
   "metadata": {},
   "outputs": [],
   "source": [
    "#Group the new dataset by month and calculate the total sales for each item per month\n",
    "historical_orders_with_increase['Order Dt'] = pd.to_datetime(historical_orders_with_increase['Order Dt'])"
   ]
  },
  {
   "cell_type": "code",
   "execution_count": 28,
   "metadata": {},
   "outputs": [],
   "source": [
    "#Group by product and month, then sum the 'Order Qty' to get total sales per month for each product\n",
    "item_sales_per_month_increase = historical_orders_with_increase.groupby([historical_orders_with_increase['Order Dt'].dt.to_period('M'), 'Product Id'])['Order Qty'].sum()"
   ]
  },
  {
   "cell_type": "code",
   "execution_count": 29,
   "metadata": {},
   "outputs": [
    {
     "data": {
      "text/plain": [
       "Order Dt  Product Id\n",
       "2014-08   1             30817.6\n",
       "          2             47254.9\n",
       "          3             20128.9\n",
       "2014-09   1             34151.7\n",
       "          2             60705.7\n",
       "          3             24179.1\n",
       "2014-10   1             27956.5\n",
       "          2             45694.0\n",
       "          3             19552.5\n",
       "2014-11   1             31240.0\n",
       "Name: Order Qty, dtype: float64"
      ]
     },
     "execution_count": 29,
     "metadata": {},
     "output_type": "execute_result"
    }
   ],
   "source": [
    "#Display the grouped results\n",
    "item_sales_per_month_increase.head(10)"
   ]
  },
  {
   "cell_type": "code",
   "execution_count": 30,
   "metadata": {},
   "outputs": [],
   "source": [
    "#Export for future visualization\n",
    "#item_sales_per_month_increase.to_csv('item_sales_per_month_increase.csv', index=False)"
   ]
  },
  {
   "cell_type": "code",
   "execution_count": 31,
   "metadata": {},
   "outputs": [],
   "source": [
    "#Group the new dataset by month and calculate the total sales for each item per month\n",
    "historical_orders['Order Dt'] = pd.to_datetime(historical_orders['Order Dt'])"
   ]
  },
  {
   "cell_type": "code",
   "execution_count": 32,
   "metadata": {},
   "outputs": [],
   "source": [
    "#Group by product and month, then sum the 'Order Qty' to get total sales per month for each product\n",
    "item_sales_per_month = historical_orders.groupby([historical_orders['Order Dt'].dt.to_period('M'), 'Product Id'])['Order Qty'].sum()"
   ]
  },
  {
   "cell_type": "code",
   "execution_count": 33,
   "metadata": {},
   "outputs": [
    {
     "data": {
      "text/plain": [
       "Order Dt  Product Id\n",
       "2014-08   1             28016\n",
       "          2             42959\n",
       "          3             18299\n",
       "2014-09   1             31047\n",
       "          2             55187\n",
       "          3             21981\n",
       "2014-10   1             25415\n",
       "          2             41540\n",
       "          3             17775\n",
       "2014-11   1             28400\n",
       "Name: Order Qty, dtype: int32"
      ]
     },
     "execution_count": 33,
     "metadata": {},
     "output_type": "execute_result"
    }
   ],
   "source": [
    "#Display the monthly grouped result\n",
    "item_sales_per_month.head(10)"
   ]
  },
  {
   "cell_type": "code",
   "execution_count": 34,
   "metadata": {},
   "outputs": [],
   "source": [
    "#Export for future visualization\n",
    "#item_sales_per_month.to_csv('item_sales_per_month.csv', index=False)"
   ]
  },
  {
   "cell_type": "markdown",
   "metadata": {},
   "source": [
    "### Step 3"
   ]
  },
  {
   "cell_type": "markdown",
   "metadata": {},
   "source": [
    "Flat rate with carrier X calculations for Store 1 and Store 2"
   ]
  },
  {
   "cell_type": "code",
   "execution_count": 35,
   "metadata": {},
   "outputs": [],
   "source": [
    "#Define the flat rates for Carrier X from the table\n",
    "flat_rate_store_1_A = 2540  # for Supplier A, Store 1\n",
    "flat_rate_store_2_A = 1640  # for Supplier A, Store 2\n",
    "flat_rate_store_1_B = 1200  # for Supplier B, Store 1\n",
    "flat_rate_store_2_B = 1200  # for Supplier B, Store 2\n"
   ]
  },
  {
   "cell_type": "code",
   "execution_count": 36,
   "metadata": {},
   "outputs": [],
   "source": [
    "#Define Carrier X's maximum shipment capacity (in pounds)\n",
    "shipment_capacity = 44000  # pounds per shipment"
   ]
  },
  {
   "cell_type": "code",
   "execution_count": 37,
   "metadata": {},
   "outputs": [
    {
     "name": "stdout",
     "output_type": "stream",
     "text": [
      "821330\n"
     ]
    }
   ],
   "source": [
    "#Calculate the total weight of hammers\n",
    "total_weight = total_wrench_per_year * weight_per_hammer\n",
    "print(total_weight)"
   ]
  },
  {
   "cell_type": "code",
   "execution_count": 38,
   "metadata": {},
   "outputs": [
    {
     "name": "stdout",
     "output_type": "stream",
     "text": [
      "410665.0\n",
      "410665.0\n"
     ]
    }
   ],
   "source": [
    "#Split the weight evenly between Store 1 and Store 2\n",
    "total_weight_store_1 = total_weight / 2\n",
    "total_weight_store_2 = total_weight / 2\n",
    "print(total_weight_store_1)\n",
    "print(total_weight_store_2)"
   ]
  },
  {
   "cell_type": "code",
   "execution_count": 39,
   "metadata": {},
   "outputs": [
    {
     "name": "stdout",
     "output_type": "stream",
     "text": [
      "10\n",
      "10\n"
     ]
    }
   ],
   "source": [
    "#Calculate the number of shipments required for each store (rounding up)\n",
    "shipments_store_1 = math.ceil(total_weight_store_1 / shipment_capacity)\n",
    "shipments_store_2 = math.ceil(total_weight_store_2 / shipment_capacity)\n",
    "print(shipments_store_1)\n",
    "print(shipments_store_2)"
   ]
  },
  {
   "cell_type": "markdown",
   "metadata": {},
   "source": [
    "10 shipments are being sent two both stores"
   ]
  },
  {
   "cell_type": "code",
   "execution_count": 40,
   "metadata": {},
   "outputs": [
    {
     "name": "stdout",
     "output_type": "stream",
     "text": [
      "25400\n",
      "16400\n"
     ]
    }
   ],
   "source": [
    "#Calculate the total shipping cost for each store for Supplier A\n",
    "total_shipping_cost_store_1_A = shipments_store_1 * flat_rate_store_1_A\n",
    "total_shipping_cost_store_2_A = shipments_store_2 * flat_rate_store_2_A\n",
    "print(total_shipping_cost_store_1_A)\n",
    "print(total_shipping_cost_store_2_A)"
   ]
  },
  {
   "cell_type": "markdown",
   "metadata": {},
   "source": [
    "Total cost for each store to get items shipped \n",
    "25400 from supplier A to store 1\n",
    "16400 from supplier A to store 2"
   ]
  },
  {
   "cell_type": "code",
   "execution_count": 41,
   "metadata": {},
   "outputs": [
    {
     "name": "stdout",
     "output_type": "stream",
     "text": [
      "12000\n",
      "12000\n"
     ]
    }
   ],
   "source": [
    "#Calculate the total shipping cost for each store for Supplier B\n",
    "total_shipping_cost_store_1_B = shipments_store_1 * flat_rate_store_1_B\n",
    "total_shipping_cost_store_2_B = shipments_store_2 * flat_rate_store_2_B\n",
    "print(total_shipping_cost_store_1_B)\n",
    "print(total_shipping_cost_store_2_B)"
   ]
  },
  {
   "cell_type": "markdown",
   "metadata": {},
   "source": [
    "Total cost for each store to get items shipped \n",
    "12000 from supplier B to store 1\n",
    "12000 from supplier B to store 2"
   ]
  },
  {
   "cell_type": "code",
   "execution_count": 42,
   "metadata": {},
   "outputs": [],
   "source": [
    "#Calculate the total shipping cost for both stores for Supplier A and Supplier B\n",
    "total_shipping_cost_A = total_shipping_cost_store_1_A + total_shipping_cost_store_2_A\n",
    "total_shipping_cost_B = total_shipping_cost_store_1_B + total_shipping_cost_store_2_B"
   ]
  },
  {
   "cell_type": "code",
   "execution_count": 43,
   "metadata": {},
   "outputs": [
    {
     "name": "stdout",
     "output_type": "stream",
     "text": [
      "Total shipping cost for Supplier A with Carrier X: $41800\n",
      "Total shipping cost for Supplier B with Carrier X: $24000\n"
     ]
    }
   ],
   "source": [
    "#Print the results\n",
    "print(f\"Total shipping cost for Supplier A with Carrier X: ${total_shipping_cost_A}\")\n",
    "print(f\"Total shipping cost for Supplier B with Carrier X: ${total_shipping_cost_B}\")"
   ]
  },
  {
   "cell_type": "markdown",
   "metadata": {},
   "source": [
    "Variable rates with carrier Y calculations for Store 1 and Store 2\n"
   ]
  },
  {
   "cell_type": "code",
   "execution_count": 44,
   "metadata": {},
   "outputs": [],
   "source": [
    "#Define the per-pound rates for Carrier Y\n",
    "rate_per_pound_store_1_A = 0.12  # for Supplier A, Store 1\n",
    "rate_per_pound_store_2_A = 0.07  # for Supplier A, Store 2\n",
    "rate_per_pound_store_1_B = 0.07  # for Supplier B, Store 1\n",
    "rate_per_pound_store_2_B = 0.06  # for Supplier B, Store 2"
   ]
  },
  {
   "cell_type": "code",
   "execution_count": 45,
   "metadata": {},
   "outputs": [
    {
     "name": "stdout",
     "output_type": "stream",
     "text": [
      "410665.0\n",
      "410665.0\n"
     ]
    }
   ],
   "source": [
    "#Calculate the total weight of hammers (split between two stores)\n",
    "total_weight_store_1 = (total_wrench_per_year / 2) * weight_per_hammer\n",
    "total_weight_store_2 = (total_wrench_per_year / 2) * weight_per_hammer\n",
    "print(total_weight_store_1)\n",
    "print(total_weight_store_2)"
   ]
  },
  {
   "cell_type": "code",
   "execution_count": 46,
   "metadata": {},
   "outputs": [
    {
     "name": "stdout",
     "output_type": "stream",
     "text": [
      "49279.799999999996\n",
      "28746.550000000003\n"
     ]
    }
   ],
   "source": [
    "#Calculate the total shipping cost for each store for Supplier A\n",
    "total_shipping_cost_store_1_A = total_weight_store_1 * rate_per_pound_store_1_A\n",
    "total_shipping_cost_store_2_A = total_weight_store_2 * rate_per_pound_store_2_A\n",
    "print(total_shipping_cost_store_1_A)\n",
    "print(total_shipping_cost_store_2_A)"
   ]
  },
  {
   "cell_type": "markdown",
   "metadata": {},
   "source": [
    "Total shipping cost for each store for Supplier\n",
    "Store 1 Supplier A 49279.79\n",
    "Store 2 Supplier A 28746.55"
   ]
  },
  {
   "cell_type": "code",
   "execution_count": 47,
   "metadata": {},
   "outputs": [
    {
     "name": "stdout",
     "output_type": "stream",
     "text": [
      "28746.550000000003\n",
      "24639.899999999998\n"
     ]
    }
   ],
   "source": [
    "#Calculate the total shipping cost for each store for Supplier B\n",
    "total_shipping_cost_store_1_B = total_weight_store_1 * rate_per_pound_store_1_B\n",
    "total_shipping_cost_store_2_B = total_weight_store_2 * rate_per_pound_store_2_B\n",
    "print(total_shipping_cost_store_1_B)\n",
    "print(total_shipping_cost_store_2_B)"
   ]
  },
  {
   "cell_type": "markdown",
   "metadata": {},
   "source": [
    "Total shipping cost for each store for Supplier\n",
    "Store 1 Supplier B 28746.55\n",
    "Store 2 Supplier B 24639.89"
   ]
  },
  {
   "cell_type": "code",
   "execution_count": 48,
   "metadata": {},
   "outputs": [
    {
     "name": "stdout",
     "output_type": "stream",
     "text": [
      "78026.35\n",
      "53386.45\n"
     ]
    }
   ],
   "source": [
    "#Calculate the total shipping cost for both stores for Supplier A and Supplier B\n",
    "total_shipping_cost_A = total_shipping_cost_store_1_A + total_shipping_cost_store_2_A\n",
    "total_shipping_cost_B = total_shipping_cost_store_1_B + total_shipping_cost_store_2_B\n",
    "print(total_shipping_cost_A)\n",
    "print(total_shipping_cost_B)"
   ]
  },
  {
   "cell_type": "code",
   "execution_count": 49,
   "metadata": {},
   "outputs": [
    {
     "name": "stdout",
     "output_type": "stream",
     "text": [
      "Total shipping cost for Supplier A with Carrier Y: $78026.35\n",
      "Total shipping cost for Supplier B with Carrier Y: $53386.45\n"
     ]
    }
   ],
   "source": [
    "#Print the results\n",
    "print(f\"Total shipping cost for Supplier A with Carrier Y: ${total_shipping_cost_A:.2f}\")\n",
    "print(f\"Total shipping cost for Supplier B with Carrier Y: ${total_shipping_cost_B:.2f}\")"
   ]
  },
  {
   "cell_type": "markdown",
   "metadata": {},
   "source": [
    "### Step 4\n",
    "Increase all outcomes since we expect a 10% increase"
   ]
  },
  {
   "cell_type": "code",
   "execution_count": 56,
   "metadata": {},
   "outputs": [
    {
     "name": "stdout",
     "output_type": "stream",
     "text": [
      "903463.0000000001\n"
     ]
    }
   ],
   "source": [
    "#Increase the total weight by 10% since we expect an increase in sales for next year\n",
    "total_weight_next_year = total_weight * 1.10\n",
    "print(total_weight_next_year)"
   ]
  },
  {
   "cell_type": "code",
   "execution_count": 57,
   "metadata": {},
   "outputs": [
    {
     "name": "stdout",
     "output_type": "stream",
     "text": [
      "451731.50000000006\n",
      "451731.50000000006\n"
     ]
    }
   ],
   "source": [
    "total_weight_store_1 = total_weight_next_year / 2\n",
    "total_weight_store_2 = total_weight_next_year / 2\n",
    "print(total_weight_store_1)\n",
    "print(total_weight_store_2) "
   ]
  }
 ],
 "metadata": {
  "kernelspec": {
   "display_name": "base",
   "language": "python",
   "name": "python3"
  },
  "language_info": {
   "codemirror_mode": {
    "name": "ipython",
    "version": 3
   },
   "file_extension": ".py",
   "mimetype": "text/x-python",
   "name": "python",
   "nbconvert_exporter": "python",
   "pygments_lexer": "ipython3",
   "version": "3.12.4"
  }
 },
 "nbformat": 4,
 "nbformat_minor": 2
}
