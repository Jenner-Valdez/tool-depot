{
 "cells": [
  {
   "cell_type": "markdown",
   "metadata": {},
   "source": [
    "### Tool Depot"
   ]
  },
  {
   "cell_type": "code",
   "execution_count": 445,
   "metadata": {},
   "outputs": [],
   "source": [
    "#import neccesary libraries\n",
    "import pandas as pd\n",
    "import numpy as np\n",
    "import math"
   ]
  },
  {
   "cell_type": "code",
   "execution_count": 446,
   "metadata": {},
   "outputs": [],
   "source": [
    "#We will read the libraries and make the accessible\n",
    "carrier_rates = pd.read_csv('C:/Users/valde/Desktop/Tool Depot/tool-depot/Datasets/Carrier_rates.csv')\n",
    "historical_orders = pd.read_csv('C:/Users/valde/Desktop/Tool Depot/tool-depot/Datasets/Historical_orders.csv')\n",
    "historical_shipments = pd.read_csv('C:/Users/valde/Desktop/Tool Depot/tool-depot/Datasets/Historical_shipments.csv')\n",
    "product_info = pd.read_csv('C:/Users/valde/Desktop/Tool Depot/tool-depot/Datasets/Product_info.csv')"
   ]
  },
  {
   "cell_type": "code",
   "execution_count": 447,
   "metadata": {},
   "outputs": [
    {
     "data": {
      "text/html": [
       "<div>\n",
       "<style scoped>\n",
       "    .dataframe tbody tr th:only-of-type {\n",
       "        vertical-align: middle;\n",
       "    }\n",
       "\n",
       "    .dataframe tbody tr th {\n",
       "        vertical-align: top;\n",
       "    }\n",
       "\n",
       "    .dataframe thead th {\n",
       "        text-align: right;\n",
       "    }\n",
       "</style>\n",
       "<table border=\"1\" class=\"dataframe\">\n",
       "  <thead>\n",
       "    <tr style=\"text-align: right;\">\n",
       "      <th></th>\n",
       "      <th>Carrier</th>\n",
       "      <th>Supplier</th>\n",
       "      <th>Str Nbr</th>\n",
       "      <th>Cost</th>\n",
       "      <th>Unnamed: 4</th>\n",
       "    </tr>\n",
       "  </thead>\n",
       "  <tbody>\n",
       "    <tr>\n",
       "      <th>0</th>\n",
       "      <td>X</td>\n",
       "      <td>A</td>\n",
       "      <td>1</td>\n",
       "      <td>$2,540</td>\n",
       "      <td>NaN</td>\n",
       "    </tr>\n",
       "    <tr>\n",
       "      <th>1</th>\n",
       "      <td>X</td>\n",
       "      <td>A</td>\n",
       "      <td>2</td>\n",
       "      <td>$1,640</td>\n",
       "      <td>NaN</td>\n",
       "    </tr>\n",
       "    <tr>\n",
       "      <th>2</th>\n",
       "      <td>X</td>\n",
       "      <td>B</td>\n",
       "      <td>1</td>\n",
       "      <td>$1,200</td>\n",
       "      <td>NaN</td>\n",
       "    </tr>\n",
       "    <tr>\n",
       "      <th>3</th>\n",
       "      <td>X</td>\n",
       "      <td>B</td>\n",
       "      <td>2</td>\n",
       "      <td>$1,200</td>\n",
       "      <td>NaN</td>\n",
       "    </tr>\n",
       "    <tr>\n",
       "      <th>4</th>\n",
       "      <td>Y</td>\n",
       "      <td>A</td>\n",
       "      <td>1</td>\n",
       "      <td>$0.12</td>\n",
       "      <td>NaN</td>\n",
       "    </tr>\n",
       "  </tbody>\n",
       "</table>\n",
       "</div>"
      ],
      "text/plain": [
       "  Carrier Supplier  Str Nbr      Cost  Unnamed: 4\n",
       "0       X        A        1   $2,540          NaN\n",
       "1       X        A        2   $1,640          NaN\n",
       "2       X        B        1   $1,200          NaN\n",
       "3       X        B        2   $1,200          NaN\n",
       "4       Y        A        1    $0.12          NaN"
      ]
     },
     "metadata": {},
     "output_type": "display_data"
    },
    {
     "data": {
      "text/html": [
       "<div>\n",
       "<style scoped>\n",
       "    .dataframe tbody tr th:only-of-type {\n",
       "        vertical-align: middle;\n",
       "    }\n",
       "\n",
       "    .dataframe tbody tr th {\n",
       "        vertical-align: top;\n",
       "    }\n",
       "\n",
       "    .dataframe thead th {\n",
       "        text-align: right;\n",
       "    }\n",
       "</style>\n",
       "<table border=\"1\" class=\"dataframe\">\n",
       "  <thead>\n",
       "    <tr style=\"text-align: right;\">\n",
       "      <th></th>\n",
       "      <th>Order Dt</th>\n",
       "      <th>Str Nbr</th>\n",
       "      <th>Supplier</th>\n",
       "      <th>Product Id</th>\n",
       "      <th>Order Qty</th>\n",
       "      <th>Product Weight</th>\n",
       "      <th>Order Weight</th>\n",
       "    </tr>\n",
       "  </thead>\n",
       "  <tbody>\n",
       "    <tr>\n",
       "      <th>0</th>\n",
       "      <td>8/4/2014</td>\n",
       "      <td>1</td>\n",
       "      <td>A</td>\n",
       "      <td>1</td>\n",
       "      <td>4,338</td>\n",
       "      <td>2.2</td>\n",
       "      <td>9,544</td>\n",
       "    </tr>\n",
       "    <tr>\n",
       "      <th>1</th>\n",
       "      <td>8/4/2014</td>\n",
       "      <td>1</td>\n",
       "      <td>A</td>\n",
       "      <td>2</td>\n",
       "      <td>5,006</td>\n",
       "      <td>1.2</td>\n",
       "      <td>6,007</td>\n",
       "    </tr>\n",
       "    <tr>\n",
       "      <th>2</th>\n",
       "      <td>8/4/2014</td>\n",
       "      <td>2</td>\n",
       "      <td>A</td>\n",
       "      <td>1</td>\n",
       "      <td>3,600</td>\n",
       "      <td>2.2</td>\n",
       "      <td>7,920</td>\n",
       "    </tr>\n",
       "    <tr>\n",
       "      <th>3</th>\n",
       "      <td>8/4/2014</td>\n",
       "      <td>2</td>\n",
       "      <td>A</td>\n",
       "      <td>2</td>\n",
       "      <td>5,173</td>\n",
       "      <td>1.2</td>\n",
       "      <td>6,208</td>\n",
       "    </tr>\n",
       "    <tr>\n",
       "      <th>4</th>\n",
       "      <td>8/4/2014</td>\n",
       "      <td>1</td>\n",
       "      <td>B</td>\n",
       "      <td>3</td>\n",
       "      <td>1,890</td>\n",
       "      <td>8.3</td>\n",
       "      <td>15,687</td>\n",
       "    </tr>\n",
       "  </tbody>\n",
       "</table>\n",
       "</div>"
      ],
      "text/plain": [
       "   Order Dt  Str Nbr Supplier  Product Id  Order Qty    Product Weight   \\\n",
       "0  8/4/2014        1        A           1      4,338                2.2   \n",
       "1  8/4/2014        1        A           2      5,006                1.2   \n",
       "2  8/4/2014        2        A           1      3,600                2.2   \n",
       "3  8/4/2014        2        A           2      5,173                1.2   \n",
       "4  8/4/2014        1        B           3      1,890                8.3   \n",
       "\n",
       "   Order Weight   \n",
       "0         9,544   \n",
       "1         6,007   \n",
       "2         7,920   \n",
       "3         6,208   \n",
       "4        15,687   "
      ]
     },
     "metadata": {},
     "output_type": "display_data"
    },
    {
     "data": {
      "text/html": [
       "<div>\n",
       "<style scoped>\n",
       "    .dataframe tbody tr th:only-of-type {\n",
       "        vertical-align: middle;\n",
       "    }\n",
       "\n",
       "    .dataframe tbody tr th {\n",
       "        vertical-align: top;\n",
       "    }\n",
       "\n",
       "    .dataframe thead th {\n",
       "        text-align: right;\n",
       "    }\n",
       "</style>\n",
       "<table border=\"1\" class=\"dataframe\">\n",
       "  <thead>\n",
       "    <tr style=\"text-align: right;\">\n",
       "      <th></th>\n",
       "      <th>Shipment Date</th>\n",
       "      <th>Str Nbr</th>\n",
       "      <th>Supplier</th>\n",
       "      <th>Weight</th>\n",
       "      <th>Unnamed: 4</th>\n",
       "      <th>Carrier X Cost</th>\n",
       "      <th>Carrier Y Cost</th>\n",
       "    </tr>\n",
       "  </thead>\n",
       "  <tbody>\n",
       "    <tr>\n",
       "      <th>0</th>\n",
       "      <td>2014-08-04</td>\n",
       "      <td>1</td>\n",
       "      <td>A</td>\n",
       "      <td>15551</td>\n",
       "      <td>NaN</td>\n",
       "      <td>2540</td>\n",
       "      <td>1866.12</td>\n",
       "    </tr>\n",
       "    <tr>\n",
       "      <th>1</th>\n",
       "      <td>2014-08-04</td>\n",
       "      <td>1</td>\n",
       "      <td>B</td>\n",
       "      <td>15687</td>\n",
       "      <td>NaN</td>\n",
       "      <td>1200</td>\n",
       "      <td>1098.09</td>\n",
       "    </tr>\n",
       "    <tr>\n",
       "      <th>2</th>\n",
       "      <td>2014-08-04</td>\n",
       "      <td>2</td>\n",
       "      <td>A</td>\n",
       "      <td>14128</td>\n",
       "      <td>NaN</td>\n",
       "      <td>1640</td>\n",
       "      <td>988.96</td>\n",
       "    </tr>\n",
       "    <tr>\n",
       "      <th>3</th>\n",
       "      <td>2014-08-04</td>\n",
       "      <td>2</td>\n",
       "      <td>B</td>\n",
       "      <td>21049</td>\n",
       "      <td>NaN</td>\n",
       "      <td>1200</td>\n",
       "      <td>1262.94</td>\n",
       "    </tr>\n",
       "    <tr>\n",
       "      <th>4</th>\n",
       "      <td>2014-08-11</td>\n",
       "      <td>1</td>\n",
       "      <td>A</td>\n",
       "      <td>16671</td>\n",
       "      <td>NaN</td>\n",
       "      <td>2540</td>\n",
       "      <td>2000.52</td>\n",
       "    </tr>\n",
       "  </tbody>\n",
       "</table>\n",
       "</div>"
      ],
      "text/plain": [
       "  Shipment Date  Str Nbr Supplier  Weight  Unnamed: 4  Carrier X Cost  \\\n",
       "0    2014-08-04        1        A   15551         NaN            2540   \n",
       "1    2014-08-04        1        B   15687         NaN            1200   \n",
       "2    2014-08-04        2        A   14128         NaN            1640   \n",
       "3    2014-08-04        2        B   21049         NaN            1200   \n",
       "4    2014-08-11        1        A   16671         NaN            2540   \n",
       "\n",
       "   Carrier Y Cost  \n",
       "0         1866.12  \n",
       "1         1098.09  \n",
       "2          988.96  \n",
       "3         1262.94  \n",
       "4         2000.52  "
      ]
     },
     "metadata": {},
     "output_type": "display_data"
    },
    {
     "data": {
      "text/html": [
       "<div>\n",
       "<style scoped>\n",
       "    .dataframe tbody tr th:only-of-type {\n",
       "        vertical-align: middle;\n",
       "    }\n",
       "\n",
       "    .dataframe tbody tr th {\n",
       "        vertical-align: top;\n",
       "    }\n",
       "\n",
       "    .dataframe thead th {\n",
       "        text-align: right;\n",
       "    }\n",
       "</style>\n",
       "<table border=\"1\" class=\"dataframe\">\n",
       "  <thead>\n",
       "    <tr style=\"text-align: right;\">\n",
       "      <th></th>\n",
       "      <th>Product Id</th>\n",
       "      <th>Product Desc</th>\n",
       "      <th>Package Qty</th>\n",
       "      <th>Weight</th>\n",
       "      <th>Weight Unit of Measure</th>\n",
       "    </tr>\n",
       "  </thead>\n",
       "  <tbody>\n",
       "    <tr>\n",
       "      <th>0</th>\n",
       "      <td>1</td>\n",
       "      <td>Wrench</td>\n",
       "      <td>1</td>\n",
       "      <td>2.2</td>\n",
       "      <td>LB</td>\n",
       "    </tr>\n",
       "    <tr>\n",
       "      <th>1</th>\n",
       "      <td>2</td>\n",
       "      <td>Saw</td>\n",
       "      <td>1</td>\n",
       "      <td>1.2</td>\n",
       "      <td>LB</td>\n",
       "    </tr>\n",
       "    <tr>\n",
       "      <th>2</th>\n",
       "      <td>3</td>\n",
       "      <td>Drill</td>\n",
       "      <td>1</td>\n",
       "      <td>8.3</td>\n",
       "      <td>LB</td>\n",
       "    </tr>\n",
       "    <tr>\n",
       "      <th>3</th>\n",
       "      <td>4</td>\n",
       "      <td>Hammer</td>\n",
       "      <td>1</td>\n",
       "      <td>2.0</td>\n",
       "      <td>LB</td>\n",
       "    </tr>\n",
       "  </tbody>\n",
       "</table>\n",
       "</div>"
      ],
      "text/plain": [
       "   Product Id Product Desc  Package Qty   Weight  Weight Unit of Measure\n",
       "0           1       Wrench            1       2.2                     LB\n",
       "1           2          Saw            1       1.2                     LB\n",
       "2           3        Drill            1       8.3                     LB\n",
       "3           4       Hammer            1       2.0                     LB"
      ]
     },
     "metadata": {},
     "output_type": "display_data"
    }
   ],
   "source": [
    "#check of libraries were read properly\n",
    "carrier_rates_summary = carrier_rates.head()\n",
    "historical_orders_summary = historical_orders.head()\n",
    "historical_shipments_summary = historical_shipments.head()\n",
    "product_info_summary = product_info.head()\n",
    "display(carrier_rates_summary.head())\n",
    "display(historical_orders_summary.head())\n",
    "display(historical_shipments_summary.head())\n",
    "display(product_info_summary.head())"
   ]
  },
  {
   "cell_type": "markdown",
   "metadata": {},
   "source": [
    "Everything seems good, we move on to check if data is clean"
   ]
  },
  {
   "cell_type": "markdown",
   "metadata": {},
   "source": [
    "The following code will check if data is clean for most datasets"
   ]
  },
  {
   "cell_type": "code",
   "execution_count": 448,
   "metadata": {},
   "outputs": [
    {
     "name": "stdout",
     "output_type": "stream",
     "text": [
      "<class 'pandas.core.frame.DataFrame'>\n",
      "RangeIndex: 8 entries, 0 to 7\n",
      "Data columns (total 5 columns):\n",
      " #   Column      Non-Null Count  Dtype  \n",
      "---  ------      --------------  -----  \n",
      " 0   Carrier     8 non-null      object \n",
      " 1   Supplier    8 non-null      object \n",
      " 2   Str Nbr     8 non-null      int64  \n",
      " 3   Cost        8 non-null      object \n",
      " 4   Unnamed: 4  0 non-null      float64\n",
      "dtypes: float64(1), int64(1), object(3)\n",
      "memory usage: 452.0+ bytes\n"
     ]
    }
   ],
   "source": [
    "#Check for data type before this to make sure the data type is correct\n",
    "carrier_rates.info()"
   ]
  },
  {
   "cell_type": "code",
   "execution_count": 449,
   "metadata": {},
   "outputs": [],
   "source": [
    "#Remove empty column from carriers_rates as its empty\n",
    "carrier_rates = carrier_rates.drop(columns=['Unnamed: 4'])"
   ]
  },
  {
   "cell_type": "code",
   "execution_count": 450,
   "metadata": {},
   "outputs": [
    {
     "name": "stdout",
     "output_type": "stream",
     "text": [
      "<class 'pandas.core.frame.DataFrame'>\n",
      "RangeIndex: 8 entries, 0 to 7\n",
      "Data columns (total 4 columns):\n",
      " #   Column    Non-Null Count  Dtype \n",
      "---  ------    --------------  ----- \n",
      " 0   Carrier   8 non-null      object\n",
      " 1   Supplier  8 non-null      object\n",
      " 2   Str Nbr   8 non-null      int64 \n",
      " 3   Cost      8 non-null      object\n",
      "dtypes: int64(1), object(3)\n",
      "memory usage: 388.0+ bytes\n"
     ]
    }
   ],
   "source": [
    "#Check again if column is not there anymore\n",
    "carrier_rates.info()"
   ]
  },
  {
   "cell_type": "markdown",
   "metadata": {},
   "source": [
    "Empty column was removed from dataset"
   ]
  },
  {
   "cell_type": "code",
   "execution_count": 451,
   "metadata": {},
   "outputs": [
    {
     "name": "stdout",
     "output_type": "stream",
     "text": [
      "<class 'pandas.core.frame.DataFrame'>\n",
      "RangeIndex: 312 entries, 0 to 311\n",
      "Data columns (total 7 columns):\n",
      " #   Column            Non-Null Count  Dtype  \n",
      "---  ------            --------------  -----  \n",
      " 0   Order Dt          312 non-null    object \n",
      " 1   Str Nbr           312 non-null    int64  \n",
      " 2   Supplier          312 non-null    object \n",
      " 3   Product Id        312 non-null    int64  \n",
      " 4    Order Qty        312 non-null    object \n",
      " 5    Product Weight   312 non-null    float64\n",
      " 6    Order Weight     312 non-null    object \n",
      "dtypes: float64(1), int64(2), object(4)\n",
      "memory usage: 17.2+ KB\n"
     ]
    }
   ],
   "source": [
    "#Check for data type before this to make sure the data type is correct\n",
    "historical_orders.info()"
   ]
  },
  {
   "cell_type": "code",
   "execution_count": 452,
   "metadata": {},
   "outputs": [
    {
     "name": "stdout",
     "output_type": "stream",
     "text": [
      "<class 'pandas.core.frame.DataFrame'>\n",
      "RangeIndex: 208 entries, 0 to 207\n",
      "Data columns (total 7 columns):\n",
      " #   Column          Non-Null Count  Dtype  \n",
      "---  ------          --------------  -----  \n",
      " 0   Shipment Date   208 non-null    object \n",
      " 1   Str Nbr         208 non-null    int64  \n",
      " 2   Supplier        208 non-null    object \n",
      " 3   Weight          208 non-null    int64  \n",
      " 4   Unnamed: 4      0 non-null      float64\n",
      " 5   Carrier X Cost  208 non-null    int64  \n",
      " 6   Carrier Y Cost  208 non-null    float64\n",
      "dtypes: float64(2), int64(3), object(2)\n",
      "memory usage: 11.5+ KB\n"
     ]
    }
   ],
   "source": [
    "#Check for data type before this to make sure the data type is correct\n",
    "historical_shipments.info()"
   ]
  },
  {
   "cell_type": "markdown",
   "metadata": {},
   "source": [
    "Empty column has been removed"
   ]
  },
  {
   "cell_type": "code",
   "execution_count": 453,
   "metadata": {},
   "outputs": [
    {
     "name": "stdout",
     "output_type": "stream",
     "text": [
      "<class 'pandas.core.frame.DataFrame'>\n",
      "RangeIndex: 4 entries, 0 to 3\n",
      "Data columns (total 5 columns):\n",
      " #   Column                  Non-Null Count  Dtype  \n",
      "---  ------                  --------------  -----  \n",
      " 0   Product Id              4 non-null      int64  \n",
      " 1   Product Desc            4 non-null      object \n",
      " 2   Package Qty             4 non-null      int64  \n",
      " 3    Weight                 4 non-null      float64\n",
      " 4   Weight Unit of Measure  4 non-null      object \n",
      "dtypes: float64(1), int64(2), object(2)\n",
      "memory usage: 292.0+ bytes\n"
     ]
    }
   ],
   "source": [
    "#Check for data type before this to make sure the data type is correct\n",
    "product_info.info()"
   ]
  },
  {
   "cell_type": "markdown",
   "metadata": {},
   "source": [
    "Since we expect the same number of hammers to be sold compare to the wrench we will take this as a reference for the future sales."
   ]
  },
  {
   "cell_type": "markdown",
   "metadata": {},
   "source": [
    "### Step 1\n",
    "\n",
    "Total number of hammers order per month"
   ]
  },
  {
   "cell_type": "code",
   "execution_count": 454,
   "metadata": {},
   "outputs": [],
   "source": [
    "#Convert the Order date to datetime\n",
    "historical_orders['Order Dt'] = pd.to_datetime(historical_orders['Order Dt'])"
   ]
  },
  {
   "cell_type": "code",
   "execution_count": 455,
   "metadata": {},
   "outputs": [],
   "source": [
    "#Filter data the data from \"Wrench\" product which is 1\n",
    "wrench_orders = historical_orders[historical_orders['Product Id'] == 1]"
   ]
  },
  {
   "cell_type": "code",
   "execution_count": 456,
   "metadata": {},
   "outputs": [],
   "source": [
    "#Remove extra space from the columns now allow to find the correct name\n",
    "wrench_orders.columns = wrench_orders.columns.str.strip()"
   ]
  },
  {
   "cell_type": "code",
   "execution_count": 457,
   "metadata": {},
   "outputs": [
    {
     "name": "stderr",
     "output_type": "stream",
     "text": [
      "C:\\Users\\valde\\AppData\\Local\\Temp\\ipykernel_28256\\940646906.py:2: SettingWithCopyWarning: \n",
      "A value is trying to be set on a copy of a slice from a DataFrame.\n",
      "Try using .loc[row_indexer,col_indexer] = value instead\n",
      "\n",
      "See the caveats in the documentation: https://pandas.pydata.org/pandas-docs/stable/user_guide/indexing.html#returning-a-view-versus-a-copy\n",
      "  wrench_orders['Order Qty'] = wrench_orders['Order Qty'].replace(',', '', regex=True).astype(int)\n"
     ]
    }
   ],
   "source": [
    "#Remove any commas from the Order Qty and convert it to integers\n",
    "wrench_orders['Order Qty'] = wrench_orders['Order Qty'].replace(',', '', regex=True).astype(int)"
   ]
  },
  {
   "cell_type": "code",
   "execution_count": 458,
   "metadata": {},
   "outputs": [],
   "source": [
    "#Group these by the month for better visualization later on\n",
    "wrench_orders_per_month = wrench_orders.groupby(wrench_orders['Order Dt'].dt.to_period('M'))['Order Qty'].sum()"
   ]
  },
  {
   "cell_type": "code",
   "execution_count": 459,
   "metadata": {},
   "outputs": [
    {
     "data": {
      "text/plain": [
       "Order Dt\n",
       "2014-08    28016\n",
       "2014-09    31047\n",
       "2014-10    25415\n",
       "2014-11    28400\n",
       "2014-12    42091\n",
       "2015-01    30045\n",
       "2015-02    29966\n",
       "2015-03    41180\n",
       "2015-04    33189\n",
       "2015-05    36505\n",
       "2015-06    45874\n",
       "2015-07    38937\n",
       "Freq: M, Name: Order Qty, dtype: int32"
      ]
     },
     "metadata": {},
     "output_type": "display_data"
    }
   ],
   "source": [
    "#Display the dataset\n",
    "display(wrench_orders_per_month)"
   ]
  },
  {
   "cell_type": "code",
   "execution_count": 460,
   "metadata": {},
   "outputs": [],
   "source": [
    "#Strip any extra spaces from column names, if necessary\n",
    "historical_orders.columns = historical_orders.columns.str.strip()"
   ]
  },
  {
   "cell_type": "code",
   "execution_count": 461,
   "metadata": {},
   "outputs": [],
   "source": [
    "#Convert the 'Order Dt' column to datetime format if it isn't already\n",
    "historical_orders['Order Dt'] = pd.to_datetime(historical_orders['Order Dt'])"
   ]
  },
  {
   "cell_type": "code",
   "execution_count": 462,
   "metadata": {},
   "outputs": [],
   "source": [
    "#Filter for hammers (assuming hammers have Product Id = 4)\n",
    "hammer_orders = historical_orders[historical_orders['Product Id'] == 1]"
   ]
  },
  {
   "cell_type": "code",
   "execution_count": 463,
   "metadata": {},
   "outputs": [],
   "source": [
    "#Group by store and month, and sum the 'Order Qty' to get the total demand per month per store\n",
    "hammer_demand_per_month = hammer_orders.groupby([hammer_orders['Str Nbr'], hammer_orders['Order Dt'].dt.to_period('M')])['Order Qty'].sum()\n"
   ]
  },
  {
   "cell_type": "code",
   "execution_count": 464,
   "metadata": {},
   "outputs": [
    {
     "name": "stdout",
     "output_type": "stream",
     "text": [
      "Str Nbr  Order Dt\n",
      "1        2014-08             4,338  4,598  4,268  3,453 \n",
      "         2014-09      3,530  3,288  3,999  3,862  3,258 \n",
      "         2014-10             4,228  3,530  4,227  2,990 \n",
      "         2014-11             3,493  4,838  3,560  4,329 \n",
      "         2014-12      4,937  4,361  4,569  4,301  5,106 \n",
      "         2015-01             4,702  4,031  4,338  4,495 \n",
      "         2015-02             4,174  4,882  4,099  4,059 \n",
      "         2015-03      4,212  6,055  5,042  3,806  4,470 \n",
      "         2015-04             4,799  4,366  4,765  5,134 \n",
      "         2015-05             4,802  5,394  5,205  5,253 \n",
      "         2015-06      5,281  5,168  5,038  4,650  5,914 \n",
      "         2015-07             5,835  5,542  5,355  5,038 \n",
      "2        2014-08             3,600  3,234  2,623  1,902 \n",
      "         2014-09      2,567  2,056  3,295  2,569  2,623 \n",
      "         2014-10             2,897  2,868  3,205  1,470 \n",
      "         2014-11             2,842  3,750  2,293  3,295 \n",
      "         2014-12      4,132  3,325  3,508  3,558  4,294 \n",
      "         2015-01             3,319  3,024  2,688  3,448 \n",
      "         2015-02             2,843  4,081  3,390  2,438 \n",
      "         2015-03      2,588  5,147  4,232  2,819  2,809 \n",
      "Name: Order Qty, dtype: object\n"
     ]
    }
   ],
   "source": [
    "#Print the results\n",
    "print(hammer_demand_per_month.head(20))"
   ]
  },
  {
   "cell_type": "code",
   "execution_count": 465,
   "metadata": {},
   "outputs": [],
   "source": [
    "#Save for visualization\n",
    "#hammer_demand_per_month.to_csv('hammer_demand_per_month.csv', index=False)"
   ]
  },
  {
   "cell_type": "code",
   "execution_count": 466,
   "metadata": {},
   "outputs": [],
   "source": [
    "#Group by store and month, and sum the 'Order Qty' to get the total demand per month for each store\n",
    "hammer_demand_per_month = hammer_orders.groupby([hammer_orders['Str Nbr'], hammer_orders['Order Dt'].dt.to_period('M')])['Order Qty'].sum()"
   ]
  },
  {
   "cell_type": "code",
   "execution_count": 467,
   "metadata": {},
   "outputs": [],
   "source": [
    "#Split the data into separate tables for Store 1 and Store 2\n",
    "store_1_sales = hammer_demand_per_month.loc[1]  # Store 1 sales\n",
    "store_2_sales = hammer_demand_per_month.loc[2]  # Store 2 sales"
   ]
  },
  {
   "cell_type": "code",
   "execution_count": 468,
   "metadata": {},
   "outputs": [
    {
     "name": "stdout",
     "output_type": "stream",
     "text": [
      "Monthly sales for Store 1:\n",
      "Order Dt\n",
      "2014-08            4,338  4,598  4,268  3,453 \n",
      "2014-09     3,530  3,288  3,999  3,862  3,258 \n",
      "2014-10            4,228  3,530  4,227  2,990 \n",
      "2014-11            3,493  4,838  3,560  4,329 \n",
      "2014-12     4,937  4,361  4,569  4,301  5,106 \n",
      "2015-01            4,702  4,031  4,338  4,495 \n",
      "2015-02            4,174  4,882  4,099  4,059 \n",
      "2015-03     4,212  6,055  5,042  3,806  4,470 \n",
      "2015-04            4,799  4,366  4,765  5,134 \n",
      "2015-05            4,802  5,394  5,205  5,253 \n",
      "2015-06     5,281  5,168  5,038  4,650  5,914 \n",
      "2015-07            5,835  5,542  5,355  5,038 \n",
      "Freq: M, Name: Order Qty, dtype: object\n"
     ]
    }
   ],
   "source": [
    "#Print the monthly sales for store 1\n",
    "print(\"Monthly sales for Store 1:\")\n",
    "print(store_1_sales)"
   ]
  },
  {
   "cell_type": "code",
   "execution_count": 469,
   "metadata": {},
   "outputs": [],
   "source": [
    "#Save for visualization\n",
    "#store_1_sales.to_csv('store_1_sales.csv', index=False)"
   ]
  },
  {
   "cell_type": "code",
   "execution_count": 470,
   "metadata": {},
   "outputs": [
    {
     "name": "stdout",
     "output_type": "stream",
     "text": [
      "\n",
      "Monthly sales for Store 2:\n",
      "Order Dt\n",
      "2014-08            3,600  3,234  2,623  1,902 \n",
      "2014-09     2,567  2,056  3,295  2,569  2,623 \n",
      "2014-10            2,897  2,868  3,205  1,470 \n",
      "2014-11            2,842  3,750  2,293  3,295 \n",
      "2014-12     4,132  3,325  3,508  3,558  4,294 \n",
      "2015-01            3,319  3,024  2,688  3,448 \n",
      "2015-02            2,843  4,081  3,390  2,438 \n",
      "2015-03     2,588  5,147  4,232  2,819  2,809 \n",
      "2015-04            3,712  3,318  3,689  3,406 \n",
      "2015-05            3,714  3,944  3,778  4,415 \n",
      "2015-06     4,453  4,044  4,232  2,982  4,112 \n",
      "2015-07            4,945  3,776  4,522  3,924 \n",
      "Freq: M, Name: Order Qty, dtype: object\n"
     ]
    }
   ],
   "source": [
    "#Print the monthly sales for store 2\n",
    "print(\"\\nMonthly sales for Store 2:\")\n",
    "print(store_2_sales)"
   ]
  },
  {
   "cell_type": "code",
   "execution_count": 471,
   "metadata": {},
   "outputs": [],
   "source": [
    "#Save for visualization\n",
    "#store_2_sales.to_csv('store_2_sales.csv', index=False)"
   ]
  },
  {
   "cell_type": "markdown",
   "metadata": {},
   "source": [
    "### Step 2\n",
    "Total weight per order per store"
   ]
  },
  {
   "cell_type": "code",
   "execution_count": 472,
   "metadata": {},
   "outputs": [
    {
     "name": "stdout",
     "output_type": "stream",
     "text": [
      "Total Wrench Weight for Store 1: 516927.4\n",
      "Total Wrench Weight for Store 2: 386535.6000000001\n"
     ]
    }
   ],
   "source": [
    "# Clean up column names by stripping extra spaces\n",
    "historical_orders.columns = historical_orders.columns.str.strip()\n",
    "\n",
    "# Filter for wrench\n",
    "wrench_product_id = product_info[product_info['Product Desc'] == 'Wrench']['Product Id'].iloc[0]\n",
    "\n",
    "# Filter the historical orders for wrenches\n",
    "wrench_orders = historical_orders[historical_orders['Product Id'] == wrench_product_id]\n",
    "\n",
    "# Filter orders by store 1 and store 2\n",
    "store_1_wrench_orders = wrench_orders[wrench_orders['Str Nbr'] == 1]\n",
    "store_2_wrench_orders = wrench_orders[wrench_orders['Str Nbr'] == 2]\n",
    "\n",
    "# Clean column names for wrench orders specifically\n",
    "wrench_orders.columns = wrench_orders.columns.str.strip()\n",
    "\n",
    "# Calculate total wrench weight for store 1 and store 2\n",
    "store_1_total_weight = (store_1_wrench_orders['Order Qty'].str.replace(',', '').astype(float) * store_1_wrench_orders['Product Weight'].astype(float)).sum()\n",
    "store_2_total_weight = (store_2_wrench_orders['Order Qty'].str.replace(',', '').astype(float) * store_2_wrench_orders['Product Weight'].astype(float)).sum()\n",
    "\n",
    "# Output the results\n",
    "print(\"Total Wrench Weight for Store 1:\", store_1_total_weight)\n",
    "print(\"Total Wrench Weight for Store 2:\", store_2_total_weight)"
   ]
  },
  {
   "cell_type": "code",
   "execution_count": 473,
   "metadata": {},
   "outputs": [
    {
     "name": "stdout",
     "output_type": "stream",
     "text": [
      "Total Product Weight for Store 1 (All Products): 1775610.9\n",
      "Total Product Weight for Store 2 (All Products): 1883864.4000000001\n"
     ]
    }
   ],
   "source": [
    "# Clean up column names by stripping extra spaces\n",
    "historical_orders.columns = historical_orders.columns.str.strip()\n",
    "\n",
    "# Filter orders by store 1 and store 2\n",
    "store_1_orders = historical_orders[historical_orders['Str Nbr'] == 1]\n",
    "store_2_orders = historical_orders[historical_orders['Str Nbr'] == 2]\n",
    "\n",
    "# Clean column names for orders specifically\n",
    "store_1_orders.columns = store_1_orders.columns.str.strip()\n",
    "store_2_orders.columns = store_2_orders.columns.str.strip()\n",
    "\n",
    "# Calculate total weight for store 1 and store 2 across all products\n",
    "store_1_total_weight_all = (store_1_orders['Order Qty'].str.replace(',', '').astype(float) * store_1_orders['Product Weight'].astype(float)).sum()\n",
    "store_2_total_weight_all = (store_2_orders['Order Qty'].str.replace(',', '').astype(float) * store_2_orders['Product Weight'].astype(float)).sum()\n",
    "\n",
    "# Output the results\n",
    "print(\"Total Product Weight for Store 1 (All Products):\", store_1_total_weight_all)\n",
    "print(\"Total Product Weight for Store 2 (All Products):\", store_2_total_weight_all)\n"
   ]
  },
  {
   "cell_type": "code",
   "execution_count": 474,
   "metadata": {},
   "outputs": [
    {
     "name": "stdout",
     "output_type": "stream",
     "text": [
      "   Product Id  Store 1 Total Weight  Store 2 Total Weight\n",
      "0           1              516927.4              386535.6\n",
      "1           2              354705.6              370653.6\n",
      "2           3              903977.9             1126675.2\n"
     ]
    }
   ],
   "source": [
    "# Clean up column names by stripping extra spaces\n",
    "historical_orders.columns = historical_orders.columns.str.strip()\n",
    "\n",
    "# Clean the 'Order Qty' column by removing commas and converting to float\n",
    "historical_orders['Order Qty'] = historical_orders['Order Qty'].str.replace(',', '').astype(float)\n",
    "\n",
    "# Group by 'Product Id' and 'Str Nbr' (store number), and calculate the total weight\n",
    "historical_orders['Total Weight'] = historical_orders['Order Qty'] * historical_orders['Product Weight']\n",
    "\n",
    "# Pivot the data to get a table with 'Product Id' as rows and separate columns for Store 1 and Store 2\n",
    "product_weight_by_store = historical_orders.pivot_table(index='Product Id', \n",
    "                                                        columns='Str Nbr', \n",
    "                                                        values='Total Weight', \n",
    "                                                        aggfunc='sum')\n",
    "\n",
    "# Rename columns for clarity\n",
    "product_weight_by_store.columns = ['Store 1 Total Weight', 'Store 2 Total Weight']\n",
    "\n",
    "# Reset the index to turn 'Product Id' into a column\n",
    "product_weight_by_store = product_weight_by_store.reset_index()\n",
    "\n",
    "# Output the new dataset\n",
    "print(product_weight_by_store)\n",
    "\n"
   ]
  },
  {
   "cell_type": "code",
   "execution_count": 475,
   "metadata": {},
   "outputs": [
    {
     "name": "stdout",
     "output_type": "stream",
     "text": [
      "   Product Id  Store 1 Total Weight  Store 2 Total Weight\n",
      "0           1              516927.4              386535.6\n",
      "1           2              354705.6              370653.6\n",
      "2           3              903977.9             1126675.2\n",
      "3           4              516927.4              386535.6\n"
     ]
    }
   ],
   "source": [
    "# Assuming product 1 is the hammer, we will duplicate its row\n",
    "# Filter the row where 'Product Id' is 1 (hammer)\n",
    "product_1_data = product_weight_by_store[product_weight_by_store['Product Id'] == 1].copy()\n",
    "\n",
    "# Modify the 'Product Id' to 4 for the duplicated row (assuming product 4 is the new product)\n",
    "product_1_data['Product Id'] = 4\n",
    "\n",
    "# Append the duplicated row to the original dataframe using pd.concat\n",
    "product_weight_by_store_with_product_4 = pd.concat([product_weight_by_store, product_1_data], ignore_index=True)\n",
    "\n",
    "# Output the updated dataframe\n",
    "print(product_weight_by_store_with_product_4)"
   ]
  },
  {
   "cell_type": "code",
   "execution_count": 476,
   "metadata": {},
   "outputs": [
    {
     "name": "stdout",
     "output_type": "stream",
     "text": [
      "Month       2014-08           2014-09           2014-10           2014-11  \\\n",
      "Str Nbr           1        2        1        2        1        2        1   \n",
      "Product Id                                                                  \n",
      "1           36645.4  24989.8  39461.4  28842.0  32945.0  22968.0  35684.0   \n",
      "2           26311.2  25239.6  31941.6  34282.8  25587.6  24260.4  27302.4   \n",
      "3           65677.9  86203.8  83838.3  98604.0  66931.2  80601.3  62797.8   \n",
      "\n",
      "Month                2014-12            ...  2015-03            2015-04  \\\n",
      "Str Nbr           2        1         2  ...        1         2        1   \n",
      "Product Id                              ...                               \n",
      "1           26796.0  51202.8   41397.4  ...  51887.0   38709.0  41940.8   \n",
      "2           27385.2  33710.4   36658.8  ...  32941.2   35583.6  29592.0   \n",
      "3           71994.2  82800.8  102023.6  ...  88162.6  114955.0  69388.0   \n",
      "\n",
      "Month                2015-05           2015-06            2015-07            \n",
      "Str Nbr           2        1        2        1         2        1         2  \n",
      "Product Id                                                                   \n",
      "1           31075.0  45438.8  34872.2  57312.2   43610.6  47894.0   37767.4  \n",
      "2           32892.0  29614.8  32967.6  37974.0   38796.0  31189.2   33282.0  \n",
      "3           91806.3  77638.2  99226.5  95823.5  119129.9  79007.7  101293.2  \n",
      "\n",
      "[3 rows x 24 columns]\n"
     ]
    }
   ],
   "source": [
    "# Ensure 'Order Dt' is in datetime format\n",
    "historical_orders['Order Dt'] = pd.to_datetime(historical_orders['Order Dt'])\n",
    "\n",
    "# Extract the month and year from 'Order Dt'\n",
    "historical_orders['Month'] = historical_orders['Order Dt'].dt.to_period('M')\n",
    "\n",
    "# Convert 'Order Qty' to string first to handle any non-string cases, then remove commas and convert to float\n",
    "historical_orders['Order Qty'] = historical_orders['Order Qty'].astype(str).str.replace(',', '').astype(float)\n",
    "\n",
    "# Calculate the total weight for each order\n",
    "historical_orders['Total Weight'] = historical_orders['Order Qty'] * historical_orders['Product Weight'].astype(float)\n",
    "\n",
    "# Group by 'Product Id', 'Month', and 'Str Nbr' (store number) and sum the total weights\n",
    "product_weight_by_month_store = historical_orders.groupby(['Product Id', 'Month', 'Str Nbr'])['Total Weight'].sum().reset_index()\n",
    "\n",
    "# Pivot the table to get 'Product Id' as rows, 'Month' as columns, and separate columns for Store 1 and Store 2\n",
    "product_weight_by_month_store_pivot = product_weight_by_month_store.pivot_table(\n",
    "    index='Product Id', \n",
    "    columns=['Month', 'Str Nbr'], \n",
    "    values='Total Weight', \n",
    "    aggfunc='sum'\n",
    ")\n",
    "\n",
    "# Output the result\n",
    "print(product_weight_by_month_store_pivot)"
   ]
  },
  {
   "cell_type": "code",
   "execution_count": 477,
   "metadata": {},
   "outputs": [
    {
     "name": "stdout",
     "output_type": "stream",
     "text": [
      "Total Hammer Orders (Store 1): 258463.7\n",
      "Total Hammer Orders (Store 2): 193267.80000000002\n",
      "Total Hammer Orders (Both Stores): 451731.5\n"
     ]
    }
   ],
   "source": [
    "# Filter historical orders for wrenches (assuming Product Id for wrenches is 1)\n",
    "wrench_orders = historical_orders[historical_orders['Product Id'] == 1]\n",
    "\n",
    "# Calculate total wrench orders for each store\n",
    "store_1_wrench_orders = wrench_orders[wrench_orders['Str Nbr'] == 1]['Order Qty'].sum()\n",
    "store_2_wrench_orders = wrench_orders[wrench_orders['Str Nbr'] == 2]['Order Qty'].sum()\n",
    "\n",
    "# Factor in the 10% year-over-year growth\n",
    "store_1_hammer_orders = store_1_wrench_orders * 1.10\n",
    "store_2_hammer_orders = store_2_wrench_orders * 1.10\n",
    "\n",
    "# Total hammer orders for both stores\n",
    "total_hammer_orders = store_1_hammer_orders + store_2_hammer_orders\n",
    "print(\"Total Hammer Orders (Store 1):\", store_1_hammer_orders)\n",
    "print(\"Total Hammer Orders (Store 2):\", store_2_hammer_orders)\n",
    "print(\"Total Hammer Orders (Both Stores):\", total_hammer_orders)"
   ]
  },
  {
   "cell_type": "code",
   "execution_count": 478,
   "metadata": {},
   "outputs": [
    {
     "name": "stdout",
     "output_type": "stream",
     "text": [
      "      Shipment Date   Order Dt  Str Nbr Supplier  Order Qty  Product Weight  \\\n",
      "0        2014-08-04 2014-08-04        1        A     4338.0             2.2   \n",
      "8008     2014-08-04 2015-01-26        1        B     1742.0             8.3   \n",
      "8060     2014-08-04 2015-01-26        2        B     2311.0             8.3   \n",
      "8112     2014-08-04 2015-02-02        1        A     4174.0             2.2   \n",
      "8164     2014-08-04 2015-02-02        1        A     5324.0             1.2   \n",
      "...             ...        ...      ...      ...        ...             ...   \n",
      "10711    2015-07-27 2015-03-30        1        A     5517.0             1.2   \n",
      "10763    2015-07-27 2015-03-30        2        A     2809.0             2.2   \n",
      "10815    2015-07-27 2015-03-30        2        A     6551.0             1.2   \n",
      "10451    2015-07-27 2015-03-23        2        A     2819.0             2.2   \n",
      "16223    2015-07-27 2015-07-27        2        B     2888.0             8.3   \n",
      "\n",
      "       Weight  \n",
      "0       15551  \n",
      "8008    15687  \n",
      "8060    21049  \n",
      "8112    15551  \n",
      "8164    15551  \n",
      "...       ...  \n",
      "10711   18471  \n",
      "10763   17474  \n",
      "10815   17474  \n",
      "10451   17474  \n",
      "16223   23970  \n",
      "\n",
      "[16224 rows x 7 columns]\n"
     ]
    }
   ],
   "source": [
    "# Ensure 'Order Dt' and 'Shipment Date' are in datetime format\n",
    "historical_orders['Order Dt'] = pd.to_datetime(historical_orders['Order Dt'])\n",
    "historical_shipments['Shipment Date'] = pd.to_datetime(historical_shipments['Shipment Date'])\n",
    "\n",
    "# Strip extra spaces from column names in both dataframes\n",
    "historical_orders.columns = historical_orders.columns.str.strip()\n",
    "historical_shipments.columns = historical_shipments.columns.str.strip()\n",
    "\n",
    "# Merge the orders and shipments data on store number and supplier to match the shipment to the order\n",
    "# We'll use 'Str Nbr' (store number) and 'Supplier' for merging.\n",
    "orders_shipments_data = pd.merge(historical_orders, historical_shipments, on=['Str Nbr', 'Supplier'], how='left', suffixes=('_order', '_shipment'))\n",
    "\n",
    "# Select the relevant columns: Shipment Date, Order Date, Store Number, Supplier, Order Quantity, Product Weight, Shipment Weight\n",
    "past_orders_shipments = orders_shipments_data[['Shipment Date', 'Order Dt', 'Str Nbr', 'Supplier', 'Order Qty', 'Product Weight', 'Weight']]\n",
    "\n",
    "# Sort the data by Shipment Date for easier viewing\n",
    "past_orders_shipments_sorted = past_orders_shipments.sort_values(by='Shipment Date')\n",
    "\n",
    "# Output the past orders and shipments\n",
    "print(past_orders_shipments_sorted)\n"
   ]
  },
  {
   "cell_type": "code",
   "execution_count": 479,
   "metadata": {},
   "outputs": [
    {
     "name": "stdout",
     "output_type": "stream",
     "text": [
      "  Shipment Date  Str Nbr Supplier  Weight  Carrier X Cost  Carrier Y Cost\n",
      "0    2014-08-04        1        A   15551            2540         1866.12\n",
      "1    2014-08-04        1        B   15687            1200         1098.09\n",
      "2    2014-08-04        2        A   14128            1640          988.96\n",
      "3    2014-08-04        2        B   21049            1200         1262.94\n",
      "4    2014-08-11        1        A   16671            2540         2000.52\n"
     ]
    }
   ],
   "source": [
    "# Load the historical shipments dataset, remove 'Unnamed: 4' column if present\n",
    "historical_shipments = pd.read_csv('Historical_shipments.csv').drop(columns=['Unnamed: 4'], errors='ignore')\n",
    "\n",
    "# Clean up the column names by stripping any leading or trailing spaces\n",
    "historical_shipments.columns = historical_shipments.columns.str.strip()\n",
    "\n",
    "# Convert the 'Weight' column to numeric (float) to handle any non-numeric issues (e.g., commas, spaces)\n",
    "historical_shipments['Weight'] = pd.to_numeric(historical_shipments['Weight'].replace({',': ''}, regex=True), errors='coerce')\n",
    "\n",
    "# Define the carrier costs based on the store and supplier\n",
    "carrier_costs = {\n",
    "    ('X', 'A', 1): 2540,  # Carrier X, Supplier A, Store 1 (Flat rate)\n",
    "    ('X', 'A', 2): 1640,  # Carrier X, Supplier A, Store 2 (Flat rate)\n",
    "    ('X', 'B', 1): 1200,  # Carrier X, Supplier B, Store 1 (Flat rate)\n",
    "    ('X', 'B', 2): 1200,  # Carrier X, Supplier B, Store 2 (Flat rate)\n",
    "    ('Y', 'A', 1): 0.12,  # Carrier Y, Supplier A, Store 1 (Variable rate per pound)\n",
    "    ('Y', 'A', 2): 0.07,  # Carrier Y, Supplier A, Store 2 (Variable rate per pound)\n",
    "    ('Y', 'B', 1): 0.07,  # Carrier Y, Supplier B, Store 1 (Variable rate per pound)\n",
    "    ('Y', 'B', 2): 0.06,  # Carrier Y, Supplier B, Store 2 (Variable rate per pound)\n",
    "}\n",
    "\n",
    "# Calculate Carrier X Cost (Flat Rate) for each row\n",
    "historical_shipments['Carrier X Cost'] = historical_shipments.apply(\n",
    "    lambda row: carrier_costs[('X', row['Supplier'], row['Str Nbr'])], axis=1)\n",
    "\n",
    "# Calculate Carrier Y Cost (Variable Rate based on weight) for each row\n",
    "historical_shipments['Carrier Y Cost'] = historical_shipments.apply(\n",
    "    lambda row: row['Weight'] * carrier_costs[('Y', row['Supplier'], row['Str Nbr'])], axis=1)\n",
    "\n",
    "# Display the first few rows of the dataset to verify\n",
    "print(historical_shipments.head())"
   ]
  },
  {
   "cell_type": "code",
   "execution_count": 480,
   "metadata": {},
   "outputs": [
    {
     "name": "stdout",
     "output_type": "stream",
     "text": [
      "     Order Dt  Str Nbr Supplier  Product Id  Order Qty  Product Weight  \\\n",
      "0  2014-08-04        1        A           1     4338.0             2.2   \n",
      "2  2014-08-04        2        A           1     3600.0             2.2   \n",
      "6  2014-08-11        1        A           1     4598.0             2.2   \n",
      "8  2014-08-11        2        A           1     3234.0             2.2   \n",
      "12 2014-08-18        1        A           1     4268.0             2.2   \n",
      "\n",
      "   Order Weight  Total Weight    Month  Hammer Weight  \n",
      "0        9,544         9543.6  2014-08         8676.0  \n",
      "2        7,920         7920.0  2014-08         7200.0  \n",
      "6       10,116        10115.6  2014-08         9196.0  \n",
      "8        7,115         7114.8  2014-08         6468.0  \n",
      "12       9,390         9389.6  2014-08         8536.0  \n"
     ]
    },
    {
     "name": "stderr",
     "output_type": "stream",
     "text": [
      "C:\\Users\\valde\\AppData\\Local\\Temp\\ipykernel_28256\\2856382155.py:12: SettingWithCopyWarning: \n",
      "A value is trying to be set on a copy of a slice from a DataFrame.\n",
      "Try using .loc[row_indexer,col_indexer] = value instead\n",
      "\n",
      "See the caveats in the documentation: https://pandas.pydata.org/pandas-docs/stable/user_guide/indexing.html#returning-a-view-versus-a-copy\n",
      "  wrench_orders['Order Qty'] = pd.to_numeric(wrench_orders['Order Qty'].replace({',': ''}, regex=True), errors='coerce')\n",
      "C:\\Users\\valde\\AppData\\Local\\Temp\\ipykernel_28256\\2856382155.py:13: SettingWithCopyWarning: \n",
      "A value is trying to be set on a copy of a slice from a DataFrame.\n",
      "Try using .loc[row_indexer,col_indexer] = value instead\n",
      "\n",
      "See the caveats in the documentation: https://pandas.pydata.org/pandas-docs/stable/user_guide/indexing.html#returning-a-view-versus-a-copy\n",
      "  wrench_orders['Hammer Weight'] = wrench_orders['Order Qty'] * 2\n"
     ]
    }
   ],
   "source": [
    "# Clean up the column names by stripping any leading or trailing spaces\n",
    "historical_orders.columns = historical_orders.columns.str.strip()\n",
    "historical_shipments.columns = historical_shipments.columns.str.strip()\n",
    "\n",
    "# Convert the 'Weight' column in shipments to numeric (handle commas, spaces)\n",
    "historical_shipments['Weight'] = pd.to_numeric(historical_shipments['Weight'].replace({',': ''}, regex=True), errors='coerce')\n",
    "\n",
    "# Filter for Product Id 1 (wrenches, which will be treated as hammers weighing 2 pounds per unit)\n",
    "wrench_orders = historical_orders[historical_orders['Product Id'] == 1]\n",
    "\n",
    "# Convert the 'Order Qty' to numeric and calculate hammer weight as 2 pounds per item\n",
    "wrench_orders['Order Qty'] = pd.to_numeric(wrench_orders['Order Qty'].replace({',': ''}, regex=True), errors='coerce')\n",
    "wrench_orders['Hammer Weight'] = wrench_orders['Order Qty'] * 2\n",
    "\n",
    "print(wrench_orders.head())"
   ]
  },
  {
   "cell_type": "code",
   "execution_count": 481,
   "metadata": {},
   "outputs": [
    {
     "name": "stdout",
     "output_type": "stream",
     "text": [
      "      Order Dt  Str Nbr Supplier  Product Id  Order Qty  Product Weight  \\\n",
      "0   2014-08-04        1        A           1     4338.0             2.2   \n",
      "2   2014-08-04        2        A           1     3600.0             2.2   \n",
      "6   2014-08-11        1        A           1     4598.0             2.2   \n",
      "8   2014-08-11        2        A           1     3234.0             2.2   \n",
      "12  2014-08-18        1        A           1     4268.0             2.2   \n",
      "..         ...      ...      ...         ...        ...             ...   \n",
      "296 2015-07-13        2        A           1     3776.0             2.2   \n",
      "300 2015-07-20        1        A           1     5355.0             2.2   \n",
      "302 2015-07-20        2        A           1     4522.0             2.2   \n",
      "306 2015-07-27        1        A           1     5038.0             2.2   \n",
      "308 2015-07-27        2        A           1     3924.0             2.2   \n",
      "\n",
      "    Order Weight  Total Weight    Month  \n",
      "0         9,544         9543.6  2014-08  \n",
      "2         7,920         7920.0  2014-08  \n",
      "6        10,116        10115.6  2014-08  \n",
      "8         7,115         7114.8  2014-08  \n",
      "12        9,390         9389.6  2014-08  \n",
      "..           ...           ...      ...  \n",
      "296       8,307         8307.2  2015-07  \n",
      "300      11,781        11781.0  2015-07  \n",
      "302       9,948         9948.4  2015-07  \n",
      "306      11,084        11083.6  2015-07  \n",
      "308       8,633         8632.8  2015-07  \n",
      "\n",
      "[104 rows x 9 columns]\n",
      "Total hammers ordered for the entire year: 410665.0\n"
     ]
    }
   ],
   "source": [
    "# Ensure the 'Order Dt' column is in datetime format\n",
    "historical_orders['Order Dt'] = pd.to_datetime(historical_orders['Order Dt'])\n",
    "\n",
    "# Filter for hammers (assuming Product Id = 4 for hammers)\n",
    "hammer_orders = historical_orders[historical_orders['Product Id'] == 1]\n",
    "\n",
    "print(hammer_orders)\n",
    "\n",
    "# Group by store and sum the 'Order Qty' for each store to get the total orders for the year\n",
    "total_orders_store_1 = hammer_orders[hammer_orders['Str Nbr'] == 1]['Order Qty'].sum()\n",
    "total_orders_store_2 = hammer_orders[hammer_orders['Str Nbr'] == 2]['Order Qty'].sum()\n",
    "\n",
    "# Calculate the total number of hammers ordered for both stores combined\n",
    "total_hammers_ordered = total_orders_store_1 + total_orders_store_2\n",
    "\n",
    "# Print the total number of hammers ordered for the entire year\n",
    "print(f\"Total hammers ordered for the entire year: {total_hammers_ordered}\")\n"
   ]
  },
  {
   "cell_type": "code",
   "execution_count": 482,
   "metadata": {},
   "outputs": [
    {
     "name": "stderr",
     "output_type": "stream",
     "text": [
      "C:\\Users\\valde\\AppData\\Local\\Temp\\ipykernel_28256\\2398328973.py:11: SettingWithCopyWarning: \n",
      "A value is trying to be set on a copy of a slice from a DataFrame.\n",
      "Try using .loc[row_indexer,col_indexer] = value instead\n",
      "\n",
      "See the caveats in the documentation: https://pandas.pydata.org/pandas-docs/stable/user_guide/indexing.html#returning-a-view-versus-a-copy\n",
      "  wrench_orders['Order Qty'] = wrench_orders['Order Qty'].astype(int)\n"
     ]
    },
    {
     "data": {
      "text/plain": [
       "410665"
      ]
     },
     "execution_count": 482,
     "metadata": {},
     "output_type": "execute_result"
    }
   ],
   "source": [
    "# Step 1: Find the Product Id for Wrenches in the 'Product Info' dataset\n",
    "wrench_product_id = product_info[product_info['Product Desc'].str.lower() == 'wrench']['Product Id'].values[0]\n",
    "\n",
    "# Step 2: Filter the Historical Orders dataset for only wrench orders based on the Product Id\n",
    "wrench_orders = historical_orders[historical_orders['Product Id'] == wrench_product_id]\n",
    "\n",
    "# Step 3: Check if 'Order Qty' is string type, remove commas if necessary, then convert to integer\n",
    "if wrench_orders['Order Qty'].dtype == 'object':\n",
    "    wrench_orders['Order Qty'] = wrench_orders['Order Qty'].str.replace(',', '').astype(int)\n",
    "else:\n",
    "    wrench_orders['Order Qty'] = wrench_orders['Order Qty'].astype(int)\n",
    "\n",
    "# Step 4: Calculate the total number of wrenches sold\n",
    "total_wrenches_sold = wrench_orders['Order Qty'].sum()\n",
    "\n",
    "total_wrenches_sold\n"
   ]
  },
  {
   "cell_type": "code",
   "execution_count": 483,
   "metadata": {},
   "outputs": [
    {
     "name": "stdout",
     "output_type": "stream",
     "text": [
      "   Product Id  Total Order Qty\n",
      "0           1         410665.0\n",
      "1           2         604466.0\n",
      "2           3         244657.0\n"
     ]
    }
   ],
   "source": [
    "# Step 3: Strip leading and trailing spaces from column names\n",
    "historical_orders.columns = historical_orders.columns.str.strip()\n",
    "\n",
    "# Step 4: Group by 'Product Id' and sum 'Order Qty' for all months combined\n",
    "total_product_purchases = historical_orders.groupby('Product Id')['Order Qty'].sum().reset_index()\n",
    "\n",
    "# Step 5: Rename the column for clarity\n",
    "total_product_purchases.columns = ['Product Id', 'Total Order Qty']\n",
    "\n",
    "# Step 6: Output or save the results\n",
    "print(total_product_purchases)"
   ]
  },
  {
   "cell_type": "code",
   "execution_count": 487,
   "metadata": {},
   "outputs": [
    {
     "name": "stdout",
     "output_type": "stream",
     "text": [
      "   Year-Month  Product Id  Order Qty\n",
      "0     2014-08           1    28016.0\n",
      "1     2014-08           2    42959.0\n",
      "2     2014-08           3    18299.0\n",
      "3     2014-09           1    31047.0\n",
      "4     2014-09           2    55187.0\n",
      "5     2014-09           3    21981.0\n",
      "6     2014-10           1    25415.0\n",
      "7     2014-10           2    41540.0\n",
      "8     2014-10           3    17775.0\n",
      "9     2014-11           1    28400.0\n",
      "10    2014-11           2    45573.0\n",
      "11    2014-11           3    16240.0\n",
      "12    2014-12           1    42091.0\n",
      "13    2014-12           2    58641.0\n",
      "14    2014-12           3    22268.0\n",
      "15    2015-01           1    30045.0\n",
      "16    2015-01           2    39027.0\n",
      "17    2015-01           3    16264.0\n",
      "18    2015-02           1    29966.0\n",
      "19    2015-02           2    42512.0\n",
      "20    2015-02           3    19007.0\n",
      "21    2015-03           1    41180.0\n",
      "22    2015-03           2    57104.0\n",
      "23    2015-03           3    24472.0\n",
      "24    2015-04           1    33189.0\n",
      "25    2015-04           2    52070.0\n",
      "26    2015-04           3    19421.0\n",
      "27    2015-05           1    36505.0\n",
      "28    2015-05           2    52152.0\n",
      "29    2015-05           3    21309.0\n",
      "30    2015-06           1    45874.0\n",
      "31    2015-06           2    63975.0\n",
      "32    2015-06           3    25898.0\n",
      "33    2015-07           1    38937.0\n",
      "34    2015-07           2    53726.0\n",
      "35    2015-07           3    21723.0\n"
     ]
    }
   ],
   "source": [
    "# Step 3: Strip leading and trailing spaces from column names\n",
    "historical_orders.columns = historical_orders.columns.str.strip()\n",
    "\n",
    "# Step 4: Convert 'Order Dt' to datetime format\n",
    "historical_orders['Order Dt'] = pd.to_datetime(historical_orders['Order Dt'])\n",
    "\n",
    "# Step 5: Create a new column for 'Year-Month'\n",
    "historical_orders['Year-Month'] = historical_orders['Order Dt'].dt.to_period('M')\n",
    "\n",
    "# Step 6: Group by 'Year-Month' and 'Product Id', summing 'Order Qty'\n",
    "# Ensure 'Order Qty' is numeric, converting any non-numeric values to NaN\n",
    "historical_orders['Order Qty'] = pd.to_numeric(historical_orders['Order Qty'], errors='coerce')\n",
    "\n",
    "monthly_product_purchases = historical_orders.groupby(['Year-Month', 'Product Id'])['Order Qty'].sum().reset_index()\n",
    "\n",
    "# Step 7: Apply a 10% increase to the 'Order Qty' column, handling NaN values\n",
    "monthly_product_purchases['Order Qty'] = monthly_product_purchases['Order Qty'].fillna(0)\n",
    "\n",
    "# Step 8: Output or save the results\n",
    "print(monthly_product_purchases)"
   ]
  }
 ],
 "metadata": {
  "kernelspec": {
   "display_name": "base",
   "language": "python",
   "name": "python3"
  },
  "language_info": {
   "codemirror_mode": {
    "name": "ipython",
    "version": 3
   },
   "file_extension": ".py",
   "mimetype": "text/x-python",
   "name": "python",
   "nbconvert_exporter": "python",
   "pygments_lexer": "ipython3",
   "version": "3.12.4"
  }
 },
 "nbformat": 4,
 "nbformat_minor": 2
}
